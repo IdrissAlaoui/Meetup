{
 "cells": [
  {
   "cell_type": "markdown",
   "metadata": {},
   "source": [
    "# Parallelizing predictions with Dask\n",
    "\n",
    "## Introduction: What is Dask ?\n",
    "\n",
    "- Dask is a Python API allowing the *data community* to work in python data science environment **at scale**\n",
    "- It offers a good alternative to other APIs (e.g. PySpark) because it is easier to relate for python users. \n",
    "- If you're used to use Numpy, Pandas or scikit-learn then you won't feel lost and will be able to scale your data science workflow without much effort. It contains:\n",
    "    - Arrays\n",
    "    - DataFrames\n",
    "    - Bags (unstructured data)\n",
    "\n",
    "\n",
    "## Introduction: What is Dask distributed ?\n",
    "\n",
    "- Python library allowing distributed computation on moderate sized clusters\n",
    "- Architecture:\n",
    "    - One central node *scheduler* which coordinates the actions of one or several other *worker* nodes\n",
    "\n",
    "- The scheduler is asynchronous and event-driven in nature. \n",
    "- Communications is done through *TCP*\n",
    "- It is possible to switch from distributed to local by not mentionning the schedulers address to the client\n",
    "\n",
    "(Explain what is Dask)\n",
    "(To use later)\n",
    "(Maybe we don't need this part)\n",
    "## Dask and our cluster\n",
    "\n",
    "- To use Dask distributed we need:\n",
    "    - A cluster...\n",
    "    - A Dask scheduler\n",
    "    - Some workers : Docker containers with same python environment as the scheduler's one\n",
    "- A distributed file system (e.g. Hadoop)\n",
    "\n",
    "### Steps:\n",
    "\n",
    "1. Launch the scheduler\n",
    "2. Instantiate workers\n",
    "3. Instantiate a Dask client in the main program\n",
    "\n",
    "**N.B**: If we don't want to use the distributed env we can just create a client without specifying the scheduler."
   ]
  },
  {
   "cell_type": "code",
   "execution_count": 1,
   "metadata": {},
   "outputs": [
    {
     "data": {
      "text/html": [
       "<table style=\"border: 2px solid white;\">\n",
       "<tr>\n",
       "<td style=\"vertical-align: top; border: 0px solid white\">\n",
       "<h3 style=\"text-align: left;\">Client</h3>\n",
       "<ul style=\"text-align: left; list-style: none; margin: 0; padding: 0;\">\n",
       "  <li><b>Scheduler: </b>tcp://127.0.0.1:41097</li>\n",
       "  <li><b>Dashboard: </b><a href='http://127.0.0.1:8787/status' target='_blank'>http://127.0.0.1:8787/status</a>\n",
       "</ul>\n",
       "</td>\n",
       "<td style=\"vertical-align: top; border: 0px solid white\">\n",
       "<h3 style=\"text-align: left;\">Cluster</h3>\n",
       "<ul style=\"text-align: left; list-style:none; margin: 0; padding: 0;\">\n",
       "  <li><b>Workers: </b>4</li>\n",
       "  <li><b>Cores: </b>8</li>\n",
       "  <li><b>Memory: </b>16.67 GB</li>\n",
       "</ul>\n",
       "</td>\n",
       "</tr>\n",
       "</table>"
      ],
      "text/plain": [
       "<Client: 'tcp://127.0.0.1:41097' processes=4 threads=8, memory=16.67 GB>"
      ]
     },
     "execution_count": 1,
     "metadata": {},
     "output_type": "execute_result"
    }
   ],
   "source": [
    "from distributed.client import Client\n",
    "# c = Client(\"localhost:8786\")\n",
    "c = Client()\n",
    "c"
   ]
  },
  {
   "cell_type": "markdown",
   "metadata": {},
   "source": [
    "- Note that a Dashboard is created which allows to follow the computations while executing"
   ]
  },
  {
   "cell_type": "code",
   "execution_count": 2,
   "metadata": {},
   "outputs": [],
   "source": [
    "# from distributed.client import Client\n",
    "# c = Client()\n",
    "# c.restart()"
   ]
  },
  {
   "cell_type": "code",
   "execution_count": 3,
   "metadata": {
    "scrolled": true
   },
   "outputs": [],
   "source": [
    "import numpy as np\n",
    "import pandas as pd\n",
    "import sys\n",
    "import time\n",
    "sys.path.append(\"../python/\")"
   ]
  },
  {
   "cell_type": "code",
   "execution_count": 4,
   "metadata": {
    "scrolled": true
   },
   "outputs": [
    {
     "data": {
      "text/plain": [
       "{'scheduler': {'host': (('python', '3.6.9.final.0'),\n",
       "   ('python-bits', 64),\n",
       "   ('OS', 'Linux'),\n",
       "   ('OS-release', '4.15.0-66-generic'),\n",
       "   ('machine', 'x86_64'),\n",
       "   ('processor', 'x86_64'),\n",
       "   ('byteorder', 'little'),\n",
       "   ('LC_ALL', 'None'),\n",
       "   ('LANG', 'fr_FR.UTF-8'),\n",
       "   ('LOCALE', 'fr_FR.UTF-8')),\n",
       "  'packages': {'required': (('dask', '2.8.0'),\n",
       "    ('distributed', '2.8.0'),\n",
       "    ('msgpack', '0.6.2'),\n",
       "    ('cloudpickle', '1.2.2'),\n",
       "    ('tornado', '6.0.3'),\n",
       "    ('toolz', '0.10.0')),\n",
       "   'optional': (('numpy', '1.17.4'),\n",
       "    ('pandas', '0.25.3'),\n",
       "    ('bokeh', '1.4.0'),\n",
       "    ('lz4', None),\n",
       "    ('dask_ml', '1.1.1'),\n",
       "    ('blosc', None))}},\n",
       " 'workers': {'tcp://127.0.0.1:33371': {'host': (('python', '3.6.9.final.0'),\n",
       "    ('python-bits', 64),\n",
       "    ('OS', 'Linux'),\n",
       "    ('OS-release', '4.15.0-66-generic'),\n",
       "    ('machine', 'x86_64'),\n",
       "    ('processor', 'x86_64'),\n",
       "    ('byteorder', 'little'),\n",
       "    ('LC_ALL', 'None'),\n",
       "    ('LANG', 'fr_FR.UTF-8'),\n",
       "    ('LOCALE', 'fr_FR.UTF-8')),\n",
       "   'packages': {'required': (('dask', '2.8.0'),\n",
       "     ('distributed', '2.8.0'),\n",
       "     ('msgpack', '0.6.2'),\n",
       "     ('cloudpickle', '1.2.2'),\n",
       "     ('tornado', '6.0.3'),\n",
       "     ('toolz', '0.10.0')),\n",
       "    'optional': (('numpy', '1.17.4'),\n",
       "     ('pandas', '0.25.3'),\n",
       "     ('bokeh', '1.4.0'),\n",
       "     ('lz4', None),\n",
       "     ('dask_ml', '1.1.1'),\n",
       "     ('blosc', None))}},\n",
       "  'tcp://127.0.0.1:36205': {'host': (('python', '3.6.9.final.0'),\n",
       "    ('python-bits', 64),\n",
       "    ('OS', 'Linux'),\n",
       "    ('OS-release', '4.15.0-66-generic'),\n",
       "    ('machine', 'x86_64'),\n",
       "    ('processor', 'x86_64'),\n",
       "    ('byteorder', 'little'),\n",
       "    ('LC_ALL', 'None'),\n",
       "    ('LANG', 'fr_FR.UTF-8'),\n",
       "    ('LOCALE', 'fr_FR.UTF-8')),\n",
       "   'packages': {'required': (('dask', '2.8.0'),\n",
       "     ('distributed', '2.8.0'),\n",
       "     ('msgpack', '0.6.2'),\n",
       "     ('cloudpickle', '1.2.2'),\n",
       "     ('tornado', '6.0.3'),\n",
       "     ('toolz', '0.10.0')),\n",
       "    'optional': (('numpy', '1.17.4'),\n",
       "     ('pandas', '0.25.3'),\n",
       "     ('bokeh', '1.4.0'),\n",
       "     ('lz4', None),\n",
       "     ('dask_ml', '1.1.1'),\n",
       "     ('blosc', None))}},\n",
       "  'tcp://127.0.0.1:44019': {'host': (('python', '3.6.9.final.0'),\n",
       "    ('python-bits', 64),\n",
       "    ('OS', 'Linux'),\n",
       "    ('OS-release', '4.15.0-66-generic'),\n",
       "    ('machine', 'x86_64'),\n",
       "    ('processor', 'x86_64'),\n",
       "    ('byteorder', 'little'),\n",
       "    ('LC_ALL', 'None'),\n",
       "    ('LANG', 'fr_FR.UTF-8'),\n",
       "    ('LOCALE', 'fr_FR.UTF-8')),\n",
       "   'packages': {'required': (('dask', '2.8.0'),\n",
       "     ('distributed', '2.8.0'),\n",
       "     ('msgpack', '0.6.2'),\n",
       "     ('cloudpickle', '1.2.2'),\n",
       "     ('tornado', '6.0.3'),\n",
       "     ('toolz', '0.10.0')),\n",
       "    'optional': (('numpy', '1.17.4'),\n",
       "     ('pandas', '0.25.3'),\n",
       "     ('bokeh', '1.4.0'),\n",
       "     ('lz4', None),\n",
       "     ('dask_ml', '1.1.1'),\n",
       "     ('blosc', None))}},\n",
       "  'tcp://127.0.0.1:45875': {'host': (('python', '3.6.9.final.0'),\n",
       "    ('python-bits', 64),\n",
       "    ('OS', 'Linux'),\n",
       "    ('OS-release', '4.15.0-66-generic'),\n",
       "    ('machine', 'x86_64'),\n",
       "    ('processor', 'x86_64'),\n",
       "    ('byteorder', 'little'),\n",
       "    ('LC_ALL', 'None'),\n",
       "    ('LANG', 'fr_FR.UTF-8'),\n",
       "    ('LOCALE', 'fr_FR.UTF-8')),\n",
       "   'packages': {'required': (('dask', '2.8.0'),\n",
       "     ('distributed', '2.8.0'),\n",
       "     ('msgpack', '0.6.2'),\n",
       "     ('cloudpickle', '1.2.2'),\n",
       "     ('tornado', '6.0.3'),\n",
       "     ('toolz', '0.10.0')),\n",
       "    'optional': (('numpy', '1.17.4'),\n",
       "     ('pandas', '0.25.3'),\n",
       "     ('bokeh', '1.4.0'),\n",
       "     ('lz4', None),\n",
       "     ('dask_ml', '1.1.1'),\n",
       "     ('blosc', None))}}},\n",
       " 'client': {'host': [('python', '3.6.9.final.0'),\n",
       "   ('python-bits', 64),\n",
       "   ('OS', 'Linux'),\n",
       "   ('OS-release', '4.15.0-66-generic'),\n",
       "   ('machine', 'x86_64'),\n",
       "   ('processor', 'x86_64'),\n",
       "   ('byteorder', 'little'),\n",
       "   ('LC_ALL', 'None'),\n",
       "   ('LANG', 'fr_FR.UTF-8'),\n",
       "   ('LOCALE', 'fr_FR.UTF-8')],\n",
       "  'packages': {'required': [('dask', '2.8.0'),\n",
       "    ('distributed', '2.8.0'),\n",
       "    ('msgpack', '0.6.2'),\n",
       "    ('cloudpickle', '1.2.2'),\n",
       "    ('tornado', '6.0.3'),\n",
       "    ('toolz', '0.10.0')],\n",
       "   'optional': [('numpy', '1.17.4'),\n",
       "    ('pandas', '0.25.3'),\n",
       "    ('bokeh', '1.4.0'),\n",
       "    ('lz4', None),\n",
       "    ('dask_ml', '1.1.1'),\n",
       "    ('blosc', None)]}}}"
      ]
     },
     "execution_count": 4,
     "metadata": {},
     "output_type": "execute_result"
    }
   ],
   "source": [
    "c.get_versions(check=True)"
   ]
  },
  {
   "cell_type": "markdown",
   "metadata": {},
   "source": [
    "- The client is the interface through which we interact with the scheduler"
   ]
  },
  {
   "cell_type": "markdown",
   "metadata": {},
   "source": [
    "## Using the asynchronous engine\n",
    "\n",
    "- The client is the interface through wich we can compute ou operations.\n",
    "- Functions are applied in a distributed environment \n",
    "- In a distributed context, they are deployed as **futures** (asynchronously executed callables).\n",
    "\n",
    "### submit"
   ]
  },
  {
   "cell_type": "code",
   "execution_count": 5,
   "metadata": {},
   "outputs": [
    {
     "data": {
      "text/html": [
       "<b>Future: inc</b> <font color=\"gray\">status: </font><font color=\"black\">pending</font>, <font color=\"gray\">key: </font>inc-e1f6ae3084c33dac2d9ea2da9ae59ef1"
      ],
      "text/plain": [
       "<Future: pending, key: inc-e1f6ae3084c33dac2d9ea2da9ae59ef1>"
      ]
     },
     "execution_count": 5,
     "metadata": {},
     "output_type": "execute_result"
    }
   ],
   "source": [
    "import time\n",
    "def inc(x):\n",
    "    time.sleep(2)\n",
    "    return x + 1\n",
    "test_submit = c.submit(inc, 10)\n",
    "test_submit"
   ]
  },
  {
   "cell_type": "code",
   "execution_count": 6,
   "metadata": {},
   "outputs": [
    {
     "data": {
      "text/plain": [
       "11"
      ]
     },
     "execution_count": 6,
     "metadata": {},
     "output_type": "execute_result"
    }
   ],
   "source": [
    "test_submit.result()"
   ]
  },
  {
   "cell_type": "markdown",
   "metadata": {},
   "source": [
    "### map"
   ]
  },
  {
   "cell_type": "code",
   "execution_count": 7,
   "metadata": {},
   "outputs": [
    {
     "data": {
      "text/plain": [
       "[<Future: pending, key: square-49806a7cba62f84f4c156ca21ee69dbc>,\n",
       " <Future: pending, key: square-ca79d69aff1c8cd583e7379dae58b289>,\n",
       " <Future: pending, key: square-a21d8a0c2abe4623d4ac77ce4e5e33b7>,\n",
       " <Future: pending, key: square-34d7f1200f2eae8f9d19068eddeb0dec>,\n",
       " <Future: pending, key: square-32abfd095665172fc85b0dcd7a55c3ed>,\n",
       " <Future: pending, key: square-edfcd06a155455bea49c4e60edafea3f>,\n",
       " <Future: pending, key: square-1982e49728aa58808fe9d357aa353f6d>,\n",
       " <Future: pending, key: square-597b7d3d9c7adf4c153d992e7defcdfa>,\n",
       " <Future: pending, key: square-eb0999d544b6e1c5109d2319d444a4b1>,\n",
       " <Future: pending, key: square-1b22da30a7623a965ecfcc5cd5610dc4>,\n",
       " <Future: pending, key: square-ae323b08d1c9e00863955b947be2750f>]"
      ]
     },
     "execution_count": 7,
     "metadata": {},
     "output_type": "execute_result"
    }
   ],
   "source": [
    "def square(x):\n",
    "    time.sleep(2)\n",
    "    return x**2\n",
    "test_map = c.map(square, [i for i in range(11)])\n",
    "test_map"
   ]
  },
  {
   "cell_type": "code",
   "execution_count": 8,
   "metadata": {},
   "outputs": [
    {
     "data": {
      "text/plain": [
       "[0, 1, 4, 9, 16, 25, 36, 49, 64, 81, 100]"
      ]
     },
     "execution_count": 8,
     "metadata": {},
     "output_type": "execute_result"
    }
   ],
   "source": [
    "c.gather(test_map)"
   ]
  },
  {
   "cell_type": "markdown",
   "metadata": {},
   "source": [
    "- Future.result() is the methode used to gather the result of a single future\n",
    "- Future.gather() used in the case we want to compute several futures"
   ]
  },
  {
   "cell_type": "markdown",
   "metadata": {},
   "source": [
    "## Computation graphs and lazy evaluation\n",
    "\n",
    "- When manipulating dask objects, most operations are lazily evaluated\n",
    "- Dask builds a computation graph and can keep trace of intermediate computations to avoid redundancy"
   ]
  },
  {
   "cell_type": "code",
   "execution_count": 9,
   "metadata": {},
   "outputs": [
    {
     "data": {
      "image/png": "[encoded data removed]",
      "text/plain": [
       "<IPython.core.display.Image object>"
      ]
     },
     "execution_count": 9,
     "metadata": {},
     "output_type": "execute_result"
    }
   ],
   "source": [
    "from dask.delayed import delayed\n",
    "\n",
    "@delayed\n",
    "def inc(x):\n",
    "    return x + 1\n",
    "@delayed\n",
    "def square(x):\n",
    "    return x**2\n",
    "\n",
    "a = inc(1)\n",
    "b = square(2)\n",
    "d = inc(b)\n",
    "e = a + d\n",
    "f = a + 3\n",
    "g = f - e\n",
    "g.visualize()"
   ]
  },
  {
   "cell_type": "code",
   "execution_count": 10,
   "metadata": {},
   "outputs": [
    {
     "data": {
      "text/plain": [
       "-2"
      ]
     },
     "execution_count": 10,
     "metadata": {},
     "output_type": "execute_result"
    }
   ],
   "source": [
    "g.compute()"
   ]
  },
  {
   "cell_type": "markdown",
   "metadata": {},
   "source": [
    "## Working with dask DataFrames"
   ]
  },
  {
   "cell_type": "code",
   "execution_count": 11,
   "metadata": {},
   "outputs": [],
   "source": [
    "import dask.dataframe as dd\n",
    "import os\n",
    "# fraud = dd.read_csv('./test_data/fraud-*.csv')"
   ]
  },
  {
   "cell_type": "code",
   "execution_count": 12,
   "metadata": {},
   "outputs": [],
   "source": [
    "DATA_DIR = \"hdfs://bourbaki-3/user/hdfs/Data/Meetup\"\n",
    "fraud = dd.read_csv(DATA_DIR + '/test_data/fraud_5-*.csv').iloc[:, 1:]"
   ]
  },
  {
   "cell_type": "markdown",
   "metadata": {},
   "source": [
    "- The use of wildcards is because data is partitioned in several files\n",
    "- Note the proximity with pandas syntax."
   ]
  },
  {
   "cell_type": "code",
   "execution_count": 13,
   "metadata": {},
   "outputs": [
    {
     "data": {
      "text/html": [
       "<div><strong>Dask DataFrame Structure:</strong></div>\n",
       "<div>\n",
       "<style scoped>\n",
       "    .dataframe tbody tr th:only-of-type {\n",
       "        vertical-align: middle;\n",
       "    }\n",
       "\n",
       "    .dataframe tbody tr th {\n",
       "        vertical-align: top;\n",
       "    }\n",
       "\n",
       "    .dataframe thead th {\n",
       "        text-align: right;\n",
       "    }\n",
       "</style>\n",
       "<table border=\"1\" class=\"dataframe\">\n",
       "  <thead>\n",
       "    <tr style=\"text-align: right;\">\n",
       "      <th></th>\n",
       "      <th>Time</th>\n",
       "      <th>V1</th>\n",
       "      <th>V2</th>\n",
       "      <th>V3</th>\n",
       "      <th>V4</th>\n",
       "      <th>V5</th>\n",
       "      <th>V6</th>\n",
       "      <th>V7</th>\n",
       "      <th>V8</th>\n",
       "      <th>V9</th>\n",
       "      <th>V10</th>\n",
       "      <th>V11</th>\n",
       "      <th>V12</th>\n",
       "      <th>V13</th>\n",
       "      <th>V14</th>\n",
       "      <th>V15</th>\n",
       "      <th>V16</th>\n",
       "      <th>V17</th>\n",
       "      <th>V18</th>\n",
       "      <th>V19</th>\n",
       "      <th>V20</th>\n",
       "      <th>V21</th>\n",
       "      <th>V22</th>\n",
       "      <th>V23</th>\n",
       "      <th>V24</th>\n",
       "      <th>V25</th>\n",
       "      <th>V26</th>\n",
       "      <th>V27</th>\n",
       "      <th>V28</th>\n",
       "      <th>Amount</th>\n",
       "      <th>Class</th>\n",
       "    </tr>\n",
       "    <tr>\n",
       "      <th>npartitions=100</th>\n",
       "      <th></th>\n",
       "      <th></th>\n",
       "      <th></th>\n",
       "      <th></th>\n",
       "      <th></th>\n",
       "      <th></th>\n",
       "      <th></th>\n",
       "      <th></th>\n",
       "      <th></th>\n",
       "      <th></th>\n",
       "      <th></th>\n",
       "      <th></th>\n",
       "      <th></th>\n",
       "      <th></th>\n",
       "      <th></th>\n",
       "      <th></th>\n",
       "      <th></th>\n",
       "      <th></th>\n",
       "      <th></th>\n",
       "      <th></th>\n",
       "      <th></th>\n",
       "      <th></th>\n",
       "      <th></th>\n",
       "      <th></th>\n",
       "      <th></th>\n",
       "      <th></th>\n",
       "      <th></th>\n",
       "      <th></th>\n",
       "      <th></th>\n",
       "      <th></th>\n",
       "      <th></th>\n",
       "    </tr>\n",
       "  </thead>\n",
       "  <tbody>\n",
       "    <tr>\n",
       "      <th></th>\n",
       "      <td>float64</td>\n",
       "      <td>float64</td>\n",
       "      <td>float64</td>\n",
       "      <td>float64</td>\n",
       "      <td>float64</td>\n",
       "      <td>float64</td>\n",
       "      <td>float64</td>\n",
       "      <td>float64</td>\n",
       "      <td>float64</td>\n",
       "      <td>float64</td>\n",
       "      <td>float64</td>\n",
       "      <td>float64</td>\n",
       "      <td>float64</td>\n",
       "      <td>float64</td>\n",
       "      <td>float64</td>\n",
       "      <td>float64</td>\n",
       "      <td>float64</td>\n",
       "      <td>float64</td>\n",
       "      <td>float64</td>\n",
       "      <td>float64</td>\n",
       "      <td>float64</td>\n",
       "      <td>float64</td>\n",
       "      <td>float64</td>\n",
       "      <td>float64</td>\n",
       "      <td>float64</td>\n",
       "      <td>float64</td>\n",
       "      <td>float64</td>\n",
       "      <td>float64</td>\n",
       "      <td>float64</td>\n",
       "      <td>float64</td>\n",
       "      <td>int64</td>\n",
       "    </tr>\n",
       "    <tr>\n",
       "      <th></th>\n",
       "      <td>...</td>\n",
       "      <td>...</td>\n",
       "      <td>...</td>\n",
       "      <td>...</td>\n",
       "      <td>...</td>\n",
       "      <td>...</td>\n",
       "      <td>...</td>\n",
       "      <td>...</td>\n",
       "      <td>...</td>\n",
       "      <td>...</td>\n",
       "      <td>...</td>\n",
       "      <td>...</td>\n",
       "      <td>...</td>\n",
       "      <td>...</td>\n",
       "      <td>...</td>\n",
       "      <td>...</td>\n",
       "      <td>...</td>\n",
       "      <td>...</td>\n",
       "      <td>...</td>\n",
       "      <td>...</td>\n",
       "      <td>...</td>\n",
       "      <td>...</td>\n",
       "      <td>...</td>\n",
       "      <td>...</td>\n",
       "      <td>...</td>\n",
       "      <td>...</td>\n",
       "      <td>...</td>\n",
       "      <td>...</td>\n",
       "      <td>...</td>\n",
       "      <td>...</td>\n",
       "      <td>...</td>\n",
       "    </tr>\n",
       "    <tr>\n",
       "      <th>...</th>\n",
       "      <td>...</td>\n",
       "      <td>...</td>\n",
       "      <td>...</td>\n",
       "      <td>...</td>\n",
       "      <td>...</td>\n",
       "      <td>...</td>\n",
       "      <td>...</td>\n",
       "      <td>...</td>\n",
       "      <td>...</td>\n",
       "      <td>...</td>\n",
       "      <td>...</td>\n",
       "      <td>...</td>\n",
       "      <td>...</td>\n",
       "      <td>...</td>\n",
       "      <td>...</td>\n",
       "      <td>...</td>\n",
       "      <td>...</td>\n",
       "      <td>...</td>\n",
       "      <td>...</td>\n",
       "      <td>...</td>\n",
       "      <td>...</td>\n",
       "      <td>...</td>\n",
       "      <td>...</td>\n",
       "      <td>...</td>\n",
       "      <td>...</td>\n",
       "      <td>...</td>\n",
       "      <td>...</td>\n",
       "      <td>...</td>\n",
       "      <td>...</td>\n",
       "      <td>...</td>\n",
       "      <td>...</td>\n",
       "    </tr>\n",
       "    <tr>\n",
       "      <th></th>\n",
       "      <td>...</td>\n",
       "      <td>...</td>\n",
       "      <td>...</td>\n",
       "      <td>...</td>\n",
       "      <td>...</td>\n",
       "      <td>...</td>\n",
       "      <td>...</td>\n",
       "      <td>...</td>\n",
       "      <td>...</td>\n",
       "      <td>...</td>\n",
       "      <td>...</td>\n",
       "      <td>...</td>\n",
       "      <td>...</td>\n",
       "      <td>...</td>\n",
       "      <td>...</td>\n",
       "      <td>...</td>\n",
       "      <td>...</td>\n",
       "      <td>...</td>\n",
       "      <td>...</td>\n",
       "      <td>...</td>\n",
       "      <td>...</td>\n",
       "      <td>...</td>\n",
       "      <td>...</td>\n",
       "      <td>...</td>\n",
       "      <td>...</td>\n",
       "      <td>...</td>\n",
       "      <td>...</td>\n",
       "      <td>...</td>\n",
       "      <td>...</td>\n",
       "      <td>...</td>\n",
       "      <td>...</td>\n",
       "    </tr>\n",
       "    <tr>\n",
       "      <th></th>\n",
       "      <td>...</td>\n",
       "      <td>...</td>\n",
       "      <td>...</td>\n",
       "      <td>...</td>\n",
       "      <td>...</td>\n",
       "      <td>...</td>\n",
       "      <td>...</td>\n",
       "      <td>...</td>\n",
       "      <td>...</td>\n",
       "      <td>...</td>\n",
       "      <td>...</td>\n",
       "      <td>...</td>\n",
       "      <td>...</td>\n",
       "      <td>...</td>\n",
       "      <td>...</td>\n",
       "      <td>...</td>\n",
       "      <td>...</td>\n",
       "      <td>...</td>\n",
       "      <td>...</td>\n",
       "      <td>...</td>\n",
       "      <td>...</td>\n",
       "      <td>...</td>\n",
       "      <td>...</td>\n",
       "      <td>...</td>\n",
       "      <td>...</td>\n",
       "      <td>...</td>\n",
       "      <td>...</td>\n",
       "      <td>...</td>\n",
       "      <td>...</td>\n",
       "      <td>...</td>\n",
       "      <td>...</td>\n",
       "    </tr>\n",
       "  </tbody>\n",
       "</table>\n",
       "</div>\n",
       "<div>Dask Name: iloc, 400 tasks</div>"
      ],
      "text/plain": [
       "Dask DataFrame Structure:\n",
       "                    Time       V1       V2       V3       V4       V5       V6       V7       V8       V9      V10      V11      V12      V13      V14      V15      V16      V17      V18      V19      V20      V21      V22      V23      V24      V25      V26      V27      V28   Amount  Class\n",
       "npartitions=100                                                                                                                                                                                                                                                                                     \n",
       "                 float64  float64  float64  float64  float64  float64  float64  float64  float64  float64  float64  float64  float64  float64  float64  float64  float64  float64  float64  float64  float64  float64  float64  float64  float64  float64  float64  float64  float64  float64  int64\n",
       "                     ...      ...      ...      ...      ...      ...      ...      ...      ...      ...      ...      ...      ...      ...      ...      ...      ...      ...      ...      ...      ...      ...      ...      ...      ...      ...      ...      ...      ...      ...    ...\n",
       "...                  ...      ...      ...      ...      ...      ...      ...      ...      ...      ...      ...      ...      ...      ...      ...      ...      ...      ...      ...      ...      ...      ...      ...      ...      ...      ...      ...      ...      ...      ...    ...\n",
       "                     ...      ...      ...      ...      ...      ...      ...      ...      ...      ...      ...      ...      ...      ...      ...      ...      ...      ...      ...      ...      ...      ...      ...      ...      ...      ...      ...      ...      ...      ...    ...\n",
       "                     ...      ...      ...      ...      ...      ...      ...      ...      ...      ...      ...      ...      ...      ...      ...      ...      ...      ...      ...      ...      ...      ...      ...      ...      ...      ...      ...      ...      ...      ...    ...\n",
       "Dask Name: iloc, 400 tasks"
      ]
     },
     "execution_count": 13,
     "metadata": {},
     "output_type": "execute_result"
    }
   ],
   "source": [
    "fraud"
   ]
  },
  {
   "cell_type": "markdown",
   "metadata": {},
   "source": [
    "In the Dask DataFrame above, Dask has:\n",
    "\n",
    "- Read the headers\n",
    "- Guessed the type of each column"
   ]
  },
  {
   "cell_type": "code",
   "execution_count": 14,
   "metadata": {},
   "outputs": [
    {
     "data": {
      "text/plain": [
       "(Delayed('int-1f7b5cc9-f14b-49da-b072-5b76b87af563'), 31)"
      ]
     },
     "execution_count": 14,
     "metadata": {},
     "output_type": "execute_result"
    }
   ],
   "source": [
    "fraud.shape"
   ]
  },
  {
   "cell_type": "markdown",
   "metadata": {},
   "source": [
    "- The first element of shape is not known at this moment is returned as a delayed object\n",
    "- We can make some operations on it:"
   ]
  },
  {
   "cell_type": "code",
   "execution_count": 15,
   "metadata": {},
   "outputs": [],
   "source": [
    "a = fraud.shape[0] + 1"
   ]
  },
  {
   "cell_type": "markdown",
   "metadata": {},
   "source": [
    "- To retrieve the result we need to call the compute method."
   ]
  },
  {
   "cell_type": "code",
   "execution_count": 16,
   "metadata": {},
   "outputs": [
    {
     "data": {
      "text/plain": [
       "5696141"
      ]
     },
     "execution_count": 16,
     "metadata": {},
     "output_type": "execute_result"
    }
   ],
   "source": [
    "a.compute()"
   ]
  },
  {
   "cell_type": "markdown",
   "metadata": {},
   "source": [
    "- Note that calling `len(a)` will trigger the `compute()` method automatically"
   ]
  },
  {
   "cell_type": "markdown",
   "metadata": {},
   "source": [
    "- Most operations on Dask DataFrames are lazily evaluated\n",
    "- To trigger the actual evaluation, we need the `compute()` method."
   ]
  },
  {
   "cell_type": "code",
   "execution_count": 17,
   "metadata": {},
   "outputs": [
    {
     "data": {
      "text/html": [
       "<div><strong>Dask DataFrame Structure:</strong></div>\n",
       "<div>\n",
       "<style scoped>\n",
       "    .dataframe tbody tr th:only-of-type {\n",
       "        vertical-align: middle;\n",
       "    }\n",
       "\n",
       "    .dataframe tbody tr th {\n",
       "        vertical-align: top;\n",
       "    }\n",
       "\n",
       "    .dataframe thead th {\n",
       "        text-align: right;\n",
       "    }\n",
       "</style>\n",
       "<table border=\"1\" class=\"dataframe\">\n",
       "  <thead>\n",
       "    <tr style=\"text-align: right;\">\n",
       "      <th></th>\n",
       "      <th>Time</th>\n",
       "      <th>V1</th>\n",
       "      <th>V2</th>\n",
       "      <th>V3</th>\n",
       "      <th>V4</th>\n",
       "      <th>V5</th>\n",
       "      <th>V6</th>\n",
       "      <th>V7</th>\n",
       "      <th>V8</th>\n",
       "      <th>V9</th>\n",
       "      <th>V10</th>\n",
       "      <th>V11</th>\n",
       "      <th>V12</th>\n",
       "      <th>V13</th>\n",
       "      <th>V14</th>\n",
       "      <th>V15</th>\n",
       "      <th>V16</th>\n",
       "      <th>V17</th>\n",
       "      <th>V18</th>\n",
       "      <th>V19</th>\n",
       "      <th>V20</th>\n",
       "      <th>V21</th>\n",
       "      <th>V22</th>\n",
       "      <th>V23</th>\n",
       "      <th>V24</th>\n",
       "      <th>V25</th>\n",
       "      <th>V26</th>\n",
       "      <th>V27</th>\n",
       "      <th>V28</th>\n",
       "      <th>Amount</th>\n",
       "      <th>Class</th>\n",
       "    </tr>\n",
       "    <tr>\n",
       "      <th>npartitions=1</th>\n",
       "      <th></th>\n",
       "      <th></th>\n",
       "      <th></th>\n",
       "      <th></th>\n",
       "      <th></th>\n",
       "      <th></th>\n",
       "      <th></th>\n",
       "      <th></th>\n",
       "      <th></th>\n",
       "      <th></th>\n",
       "      <th></th>\n",
       "      <th></th>\n",
       "      <th></th>\n",
       "      <th></th>\n",
       "      <th></th>\n",
       "      <th></th>\n",
       "      <th></th>\n",
       "      <th></th>\n",
       "      <th></th>\n",
       "      <th></th>\n",
       "      <th></th>\n",
       "      <th></th>\n",
       "      <th></th>\n",
       "      <th></th>\n",
       "      <th></th>\n",
       "      <th></th>\n",
       "      <th></th>\n",
       "      <th></th>\n",
       "      <th></th>\n",
       "      <th></th>\n",
       "      <th></th>\n",
       "    </tr>\n",
       "  </thead>\n",
       "  <tbody>\n",
       "    <tr>\n",
       "      <th></th>\n",
       "      <td>float64</td>\n",
       "      <td>float64</td>\n",
       "      <td>float64</td>\n",
       "      <td>float64</td>\n",
       "      <td>float64</td>\n",
       "      <td>float64</td>\n",
       "      <td>float64</td>\n",
       "      <td>float64</td>\n",
       "      <td>float64</td>\n",
       "      <td>float64</td>\n",
       "      <td>float64</td>\n",
       "      <td>float64</td>\n",
       "      <td>float64</td>\n",
       "      <td>float64</td>\n",
       "      <td>float64</td>\n",
       "      <td>float64</td>\n",
       "      <td>float64</td>\n",
       "      <td>float64</td>\n",
       "      <td>float64</td>\n",
       "      <td>float64</td>\n",
       "      <td>float64</td>\n",
       "      <td>float64</td>\n",
       "      <td>float64</td>\n",
       "      <td>float64</td>\n",
       "      <td>float64</td>\n",
       "      <td>float64</td>\n",
       "      <td>float64</td>\n",
       "      <td>float64</td>\n",
       "      <td>float64</td>\n",
       "      <td>float64</td>\n",
       "      <td>float64</td>\n",
       "    </tr>\n",
       "    <tr>\n",
       "      <th></th>\n",
       "      <td>...</td>\n",
       "      <td>...</td>\n",
       "      <td>...</td>\n",
       "      <td>...</td>\n",
       "      <td>...</td>\n",
       "      <td>...</td>\n",
       "      <td>...</td>\n",
       "      <td>...</td>\n",
       "      <td>...</td>\n",
       "      <td>...</td>\n",
       "      <td>...</td>\n",
       "      <td>...</td>\n",
       "      <td>...</td>\n",
       "      <td>...</td>\n",
       "      <td>...</td>\n",
       "      <td>...</td>\n",
       "      <td>...</td>\n",
       "      <td>...</td>\n",
       "      <td>...</td>\n",
       "      <td>...</td>\n",
       "      <td>...</td>\n",
       "      <td>...</td>\n",
       "      <td>...</td>\n",
       "      <td>...</td>\n",
       "      <td>...</td>\n",
       "      <td>...</td>\n",
       "      <td>...</td>\n",
       "      <td>...</td>\n",
       "      <td>...</td>\n",
       "      <td>...</td>\n",
       "      <td>...</td>\n",
       "    </tr>\n",
       "  </tbody>\n",
       "</table>\n",
       "</div>\n",
       "<div>Dask Name: describe-numeric, 10475 tasks</div>"
      ],
      "text/plain": [
       "Dask DataFrame Structure:\n",
       "                  Time       V1       V2       V3       V4       V5       V6       V7       V8       V9      V10      V11      V12      V13      V14      V15      V16      V17      V18      V19      V20      V21      V22      V23      V24      V25      V26      V27      V28   Amount    Class\n",
       "npartitions=1                                                                                                                                                                                                                                                                                       \n",
       "               float64  float64  float64  float64  float64  float64  float64  float64  float64  float64  float64  float64  float64  float64  float64  float64  float64  float64  float64  float64  float64  float64  float64  float64  float64  float64  float64  float64  float64  float64  float64\n",
       "                   ...      ...      ...      ...      ...      ...      ...      ...      ...      ...      ...      ...      ...      ...      ...      ...      ...      ...      ...      ...      ...      ...      ...      ...      ...      ...      ...      ...      ...      ...      ...\n",
       "Dask Name: describe-numeric, 10475 tasks"
      ]
     },
     "execution_count": 17,
     "metadata": {},
     "output_type": "execute_result"
    }
   ],
   "source": [
    "fraud.describe()"
   ]
  },
  {
   "cell_type": "code",
   "execution_count": 18,
   "metadata": {
    "scrolled": true
   },
   "outputs": [
    {
     "data": {
      "text/html": [
       "<div>\n",
       "<style scoped>\n",
       "    .dataframe tbody tr th:only-of-type {\n",
       "        vertical-align: middle;\n",
       "    }\n",
       "\n",
       "    .dataframe tbody tr th {\n",
       "        vertical-align: top;\n",
       "    }\n",
       "\n",
       "    .dataframe thead th {\n",
       "        text-align: right;\n",
       "    }\n",
       "</style>\n",
       "<table border=\"1\" class=\"dataframe\">\n",
       "  <thead>\n",
       "    <tr style=\"text-align: right;\">\n",
       "      <th></th>\n",
       "      <th>Time</th>\n",
       "      <th>V1</th>\n",
       "      <th>V2</th>\n",
       "      <th>V3</th>\n",
       "      <th>V4</th>\n",
       "      <th>V5</th>\n",
       "      <th>V6</th>\n",
       "      <th>V7</th>\n",
       "      <th>V8</th>\n",
       "      <th>V9</th>\n",
       "      <th>...</th>\n",
       "      <th>V21</th>\n",
       "      <th>V22</th>\n",
       "      <th>V23</th>\n",
       "      <th>V24</th>\n",
       "      <th>V25</th>\n",
       "      <th>V26</th>\n",
       "      <th>V27</th>\n",
       "      <th>V28</th>\n",
       "      <th>Amount</th>\n",
       "      <th>Class</th>\n",
       "    </tr>\n",
       "  </thead>\n",
       "  <tbody>\n",
       "    <tr>\n",
       "      <th>count</th>\n",
       "      <td>5.696140e+06</td>\n",
       "      <td>5.696140e+06</td>\n",
       "      <td>5.696140e+06</td>\n",
       "      <td>5.696140e+06</td>\n",
       "      <td>5.696140e+06</td>\n",
       "      <td>5.696140e+06</td>\n",
       "      <td>5.696140e+06</td>\n",
       "      <td>5.696140e+06</td>\n",
       "      <td>5.696140e+06</td>\n",
       "      <td>5.696140e+06</td>\n",
       "      <td>...</td>\n",
       "      <td>5.696140e+06</td>\n",
       "      <td>5.696140e+06</td>\n",
       "      <td>5.696140e+06</td>\n",
       "      <td>5.696140e+06</td>\n",
       "      <td>5.696140e+06</td>\n",
       "      <td>5.696140e+06</td>\n",
       "      <td>5.696140e+06</td>\n",
       "      <td>5.696140e+06</td>\n",
       "      <td>5.696140e+06</td>\n",
       "      <td>5.696140e+06</td>\n",
       "    </tr>\n",
       "    <tr>\n",
       "      <th>mean</th>\n",
       "      <td>9.481386e+04</td>\n",
       "      <td>6.383551e-16</td>\n",
       "      <td>-3.832046e-17</td>\n",
       "      <td>-2.759073e-15</td>\n",
       "      <td>2.107626e-15</td>\n",
       "      <td>1.277029e-15</td>\n",
       "      <td>1.303375e-15</td>\n",
       "      <td>-1.251802e-15</td>\n",
       "      <td>3.768778e-16</td>\n",
       "      <td>-1.762981e-15</td>\n",
       "      <td>...</td>\n",
       "      <td>8.943437e-17</td>\n",
       "      <td>7.026217e-16</td>\n",
       "      <td>2.299228e-16</td>\n",
       "      <td>4.445174e-15</td>\n",
       "      <td>9.321453e-16</td>\n",
       "      <td>1.812269e-15</td>\n",
       "      <td>-3.557117e-16</td>\n",
       "      <td>-9.900451e-17</td>\n",
       "      <td>8.834962e+01</td>\n",
       "      <td>1.727486e-03</td>\n",
       "    </tr>\n",
       "    <tr>\n",
       "      <th>std</th>\n",
       "      <td>4.748807e+04</td>\n",
       "      <td>1.958693e+00</td>\n",
       "      <td>1.651306e+00</td>\n",
       "      <td>1.516252e+00</td>\n",
       "      <td>1.415866e+00</td>\n",
       "      <td>1.380244e+00</td>\n",
       "      <td>1.332269e+00</td>\n",
       "      <td>1.237092e+00</td>\n",
       "      <td>1.194351e+00</td>\n",
       "      <td>1.098630e+00</td>\n",
       "      <td>...</td>\n",
       "      <td>7.345228e-01</td>\n",
       "      <td>7.257004e-01</td>\n",
       "      <td>6.244593e-01</td>\n",
       "      <td>6.056461e-01</td>\n",
       "      <td>5.212772e-01</td>\n",
       "      <td>4.822262e-01</td>\n",
       "      <td>4.036318e-01</td>\n",
       "      <td>3.300827e-01</td>\n",
       "      <td>2.501197e+02</td>\n",
       "      <td>4.152712e-02</td>\n",
       "    </tr>\n",
       "    <tr>\n",
       "      <th>min</th>\n",
       "      <td>0.000000e+00</td>\n",
       "      <td>-5.640751e+01</td>\n",
       "      <td>-7.271573e+01</td>\n",
       "      <td>-4.832559e+01</td>\n",
       "      <td>-5.683171e+00</td>\n",
       "      <td>-1.137433e+02</td>\n",
       "      <td>-2.616051e+01</td>\n",
       "      <td>-4.355724e+01</td>\n",
       "      <td>-7.321672e+01</td>\n",
       "      <td>-1.343407e+01</td>\n",
       "      <td>...</td>\n",
       "      <td>-3.483038e+01</td>\n",
       "      <td>-1.093314e+01</td>\n",
       "      <td>-4.480774e+01</td>\n",
       "      <td>-2.836627e+00</td>\n",
       "      <td>-1.029540e+01</td>\n",
       "      <td>-2.604551e+00</td>\n",
       "      <td>-2.256568e+01</td>\n",
       "      <td>-1.543008e+01</td>\n",
       "      <td>0.000000e+00</td>\n",
       "      <td>0.000000e+00</td>\n",
       "    </tr>\n",
       "    <tr>\n",
       "      <th>25%</th>\n",
       "      <td>6.142600e+04</td>\n",
       "      <td>-7.663715e-01</td>\n",
       "      <td>-4.824720e-01</td>\n",
       "      <td>-3.793634e-01</td>\n",
       "      <td>-7.061485e-01</td>\n",
       "      <td>-4.093779e-01</td>\n",
       "      <td>-6.514015e-01</td>\n",
       "      <td>-4.787135e-01</td>\n",
       "      <td>-1.314902e-01</td>\n",
       "      <td>-5.337175e-01</td>\n",
       "      <td>...</td>\n",
       "      <td>-2.251419e-01</td>\n",
       "      <td>-5.239428e-01</td>\n",
       "      <td>-1.301482e-01</td>\n",
       "      <td>-3.189305e-01</td>\n",
       "      <td>-1.321533e-01</td>\n",
       "      <td>-2.821043e-01</td>\n",
       "      <td>-6.088078e-02</td>\n",
       "      <td>-1.543614e-02</td>\n",
       "      <td>6.950000e+00</td>\n",
       "      <td>0.000000e+00</td>\n",
       "    </tr>\n",
       "    <tr>\n",
       "      <th>50%</th>\n",
       "      <td>1.237830e+05</td>\n",
       "      <td>1.670425e-01</td>\n",
       "      <td>1.785876e-01</td>\n",
       "      <td>6.138786e-01</td>\n",
       "      <td>1.823908e-01</td>\n",
       "      <td>2.435785e-01</td>\n",
       "      <td>-1.610822e-01</td>\n",
       "      <td>1.590763e-01</td>\n",
       "      <td>8.242617e-02</td>\n",
       "      <td>4.095161e-02</td>\n",
       "      <td>...</td>\n",
       "      <td>1.579035e-02</td>\n",
       "      <td>1.480748e-01</td>\n",
       "      <td>5.160336e-02</td>\n",
       "      <td>8.357370e-02</td>\n",
       "      <td>1.691317e-01</td>\n",
       "      <td>-1.290092e-03</td>\n",
       "      <td>1.579632e-02</td>\n",
       "      <td>2.414557e-02</td>\n",
       "      <td>2.500000e+01</td>\n",
       "      <td>0.000000e+00</td>\n",
       "    </tr>\n",
       "    <tr>\n",
       "      <th>75%</th>\n",
       "      <td>1.658300e+05</td>\n",
       "      <td>1.985457e+00</td>\n",
       "      <td>8.916958e-01</td>\n",
       "      <td>1.376618e+00</td>\n",
       "      <td>1.014756e+00</td>\n",
       "      <td>8.613822e-01</td>\n",
       "      <td>4.829891e-01</td>\n",
       "      <td>7.334868e-01</td>\n",
       "      <td>4.014035e-01</td>\n",
       "      <td>7.183771e-01</td>\n",
       "      <td>...</td>\n",
       "      <td>2.481326e-01</td>\n",
       "      <td>7.318251e-01</td>\n",
       "      <td>2.346538e-01</td>\n",
       "      <td>5.296928e-01</td>\n",
       "      <td>4.198160e-01</td>\n",
       "      <td>3.205099e-01</td>\n",
       "      <td>1.060637e-01</td>\n",
       "      <td>8.112082e-02</td>\n",
       "      <td>8.525000e+01</td>\n",
       "      <td>0.000000e+00</td>\n",
       "    </tr>\n",
       "    <tr>\n",
       "      <th>max</th>\n",
       "      <td>1.727920e+05</td>\n",
       "      <td>2.454930e+00</td>\n",
       "      <td>2.205773e+01</td>\n",
       "      <td>9.382558e+00</td>\n",
       "      <td>1.687534e+01</td>\n",
       "      <td>3.480167e+01</td>\n",
       "      <td>7.330163e+01</td>\n",
       "      <td>1.205895e+02</td>\n",
       "      <td>2.000721e+01</td>\n",
       "      <td>1.559499e+01</td>\n",
       "      <td>...</td>\n",
       "      <td>2.720284e+01</td>\n",
       "      <td>1.050309e+01</td>\n",
       "      <td>2.252841e+01</td>\n",
       "      <td>4.584549e+00</td>\n",
       "      <td>7.519589e+00</td>\n",
       "      <td>3.517346e+00</td>\n",
       "      <td>3.161220e+01</td>\n",
       "      <td>3.384781e+01</td>\n",
       "      <td>2.569116e+04</td>\n",
       "      <td>1.000000e+00</td>\n",
       "    </tr>\n",
       "  </tbody>\n",
       "</table>\n",
       "<p>8 rows × 31 columns</p>\n",
       "</div>"
      ],
      "text/plain": [
       "               Time            V1            V2            V3            V4  \\\n",
       "count  5.696140e+06  5.696140e+06  5.696140e+06  5.696140e+06  5.696140e+06   \n",
       "mean   9.481386e+04  6.383551e-16 -3.832046e-17 -2.759073e-15  2.107626e-15   \n",
       "std    4.748807e+04  1.958693e+00  1.651306e+00  1.516252e+00  1.415866e+00   \n",
       "min    0.000000e+00 -5.640751e+01 -7.271573e+01 -4.832559e+01 -5.683171e+00   \n",
       "25%    6.142600e+04 -7.663715e-01 -4.824720e-01 -3.793634e-01 -7.061485e-01   \n",
       "50%    1.237830e+05  1.670425e-01  1.785876e-01  6.138786e-01  1.823908e-01   \n",
       "75%    1.658300e+05  1.985457e+00  8.916958e-01  1.376618e+00  1.014756e+00   \n",
       "max    1.727920e+05  2.454930e+00  2.205773e+01  9.382558e+00  1.687534e+01   \n",
       "\n",
       "                 V5            V6            V7            V8            V9  \\\n",
       "count  5.696140e+06  5.696140e+06  5.696140e+06  5.696140e+06  5.696140e+06   \n",
       "mean   1.277029e-15  1.303375e-15 -1.251802e-15  3.768778e-16 -1.762981e-15   \n",
       "std    1.380244e+00  1.332269e+00  1.237092e+00  1.194351e+00  1.098630e+00   \n",
       "min   -1.137433e+02 -2.616051e+01 -4.355724e+01 -7.321672e+01 -1.343407e+01   \n",
       "25%   -4.093779e-01 -6.514015e-01 -4.787135e-01 -1.314902e-01 -5.337175e-01   \n",
       "50%    2.435785e-01 -1.610822e-01  1.590763e-01  8.242617e-02  4.095161e-02   \n",
       "75%    8.613822e-01  4.829891e-01  7.334868e-01  4.014035e-01  7.183771e-01   \n",
       "max    3.480167e+01  7.330163e+01  1.205895e+02  2.000721e+01  1.559499e+01   \n",
       "\n",
       "       ...           V21           V22           V23           V24  \\\n",
       "count  ...  5.696140e+06  5.696140e+06  5.696140e+06  5.696140e+06   \n",
       "mean   ...  8.943437e-17  7.026217e-16  2.299228e-16  4.445174e-15   \n",
       "std    ...  7.345228e-01  7.257004e-01  6.244593e-01  6.056461e-01   \n",
       "min    ... -3.483038e+01 -1.093314e+01 -4.480774e+01 -2.836627e+00   \n",
       "25%    ... -2.251419e-01 -5.239428e-01 -1.301482e-01 -3.189305e-01   \n",
       "50%    ...  1.579035e-02  1.480748e-01  5.160336e-02  8.357370e-02   \n",
       "75%    ...  2.481326e-01  7.318251e-01  2.346538e-01  5.296928e-01   \n",
       "max    ...  2.720284e+01  1.050309e+01  2.252841e+01  4.584549e+00   \n",
       "\n",
       "                V25           V26           V27           V28        Amount  \\\n",
       "count  5.696140e+06  5.696140e+06  5.696140e+06  5.696140e+06  5.696140e+06   \n",
       "mean   9.321453e-16  1.812269e-15 -3.557117e-16 -9.900451e-17  8.834962e+01   \n",
       "std    5.212772e-01  4.822262e-01  4.036318e-01  3.300827e-01  2.501197e+02   \n",
       "min   -1.029540e+01 -2.604551e+00 -2.256568e+01 -1.543008e+01  0.000000e+00   \n",
       "25%   -1.321533e-01 -2.821043e-01 -6.088078e-02 -1.543614e-02  6.950000e+00   \n",
       "50%    1.691317e-01 -1.290092e-03  1.579632e-02  2.414557e-02  2.500000e+01   \n",
       "75%    4.198160e-01  3.205099e-01  1.060637e-01  8.112082e-02  8.525000e+01   \n",
       "max    7.519589e+00  3.517346e+00  3.161220e+01  3.384781e+01  2.569116e+04   \n",
       "\n",
       "              Class  \n",
       "count  5.696140e+06  \n",
       "mean   1.727486e-03  \n",
       "std    4.152712e-02  \n",
       "min    0.000000e+00  \n",
       "25%    0.000000e+00  \n",
       "50%    0.000000e+00  \n",
       "75%    0.000000e+00  \n",
       "max    1.000000e+00  \n",
       "\n",
       "[8 rows x 31 columns]"
      ]
     },
     "execution_count": 18,
     "metadata": {},
     "output_type": "execute_result"
    }
   ],
   "source": [
    "fraud.describe().compute()"
   ]
  },
  {
   "cell_type": "code",
   "execution_count": 19,
   "metadata": {},
   "outputs": [],
   "source": [
    "sum_fraud = fraud.sum(axis=0)"
   ]
  },
  {
   "cell_type": "code",
   "execution_count": 20,
   "metadata": {
    "scrolled": true
   },
   "outputs": [
    {
     "data": {
      "text/plain": [
       "Time      5.400730e+11\n",
       "V1        3.636160e-09\n",
       "V2       -2.182787e-10\n",
       "V3       -1.571607e-08\n",
       "V4        1.200533e-08\n",
       "V5        7.274139e-09\n",
       "V6        7.424205e-09\n",
       "V7       -7.130438e-09\n",
       "V8        2.146749e-09\n",
       "V9       -1.004219e-08\n",
       "V10       1.147771e-08\n",
       "V11       1.113222e-08\n",
       "V12      -1.367880e-08\n",
       "V13       5.329639e-09\n",
       "V14       7.185008e-09\n",
       "V15       2.233719e-08\n",
       "V16       8.285497e-09\n",
       "V17       7.639755e-10\n",
       "V18       5.163201e-09\n",
       "V19       4.811227e-09\n",
       "V20       2.945399e-09\n",
       "V21       5.094307e-10\n",
       "V22       4.002231e-09\n",
       "V23       1.309672e-09\n",
       "V24       2.532033e-08\n",
       "V25       5.309630e-09\n",
       "V26       1.032294e-08\n",
       "V27      -2.026184e-09\n",
       "V28      -5.639436e-10\n",
       "Amount    5.032518e+08\n",
       "Class     9.840000e+03\n",
       "dtype: float64"
      ]
     },
     "execution_count": 20,
     "metadata": {},
     "output_type": "execute_result"
    }
   ],
   "source": [
    "sum_fraud.compute()"
   ]
  },
  {
   "cell_type": "code",
   "execution_count": 23,
   "metadata": {},
   "outputs": [
    {
     "data": {
      "text/html": [
       "<div><strong>Dask DataFrame Structure:</strong></div>\n",
       "<div>\n",
       "<style scoped>\n",
       "    .dataframe tbody tr th:only-of-type {\n",
       "        vertical-align: middle;\n",
       "    }\n",
       "\n",
       "    .dataframe tbody tr th {\n",
       "        vertical-align: top;\n",
       "    }\n",
       "\n",
       "    .dataframe thead th {\n",
       "        text-align: right;\n",
       "    }\n",
       "</style>\n",
       "<table border=\"1\" class=\"dataframe\">\n",
       "  <thead>\n",
       "    <tr style=\"text-align: right;\">\n",
       "      <th></th>\n",
       "      <th>Amount</th>\n",
       "      <th>V1</th>\n",
       "      <th>Amount2</th>\n",
       "    </tr>\n",
       "    <tr>\n",
       "      <th>npartitions=1</th>\n",
       "      <th></th>\n",
       "      <th></th>\n",
       "      <th></th>\n",
       "    </tr>\n",
       "  </thead>\n",
       "  <tbody>\n",
       "    <tr>\n",
       "      <th></th>\n",
       "      <td>float64</td>\n",
       "      <td>float64</td>\n",
       "      <td>float64</td>\n",
       "    </tr>\n",
       "    <tr>\n",
       "      <th></th>\n",
       "      <td>...</td>\n",
       "      <td>...</td>\n",
       "      <td>...</td>\n",
       "    </tr>\n",
       "  </tbody>\n",
       "</table>\n",
       "</div>\n",
       "<div>Dask Name: assign, 637 tasks</div>"
      ],
      "text/plain": [
       "Dask DataFrame Structure:\n",
       "                Amount       V1  Amount2\n",
       "npartitions=1                           \n",
       "               float64  float64  float64\n",
       "                   ...      ...      ...\n",
       "Dask Name: assign, 637 tasks"
      ]
     },
     "execution_count": 23,
     "metadata": {},
     "output_type": "execute_result"
    }
   ],
   "source": [
    "gb = fraud.groupby('Class')[['Amount', 'V1']].mean()\n",
    "gb['Amount2'] = gb['Amount'] / 1000\n",
    "gb"
   ]
  },
  {
   "cell_type": "code",
   "execution_count": 24,
   "metadata": {},
   "outputs": [
    {
     "data": {
      "text/html": [
       "<div>\n",
       "<style scoped>\n",
       "    .dataframe tbody tr th:only-of-type {\n",
       "        vertical-align: middle;\n",
       "    }\n",
       "\n",
       "    .dataframe tbody tr th {\n",
       "        vertical-align: top;\n",
       "    }\n",
       "\n",
       "    .dataframe thead th {\n",
       "        text-align: right;\n",
       "    }\n",
       "</style>\n",
       "<table border=\"1\" class=\"dataframe\">\n",
       "  <thead>\n",
       "    <tr style=\"text-align: right;\">\n",
       "      <th></th>\n",
       "      <th>Amount</th>\n",
       "      <th>V1</th>\n",
       "      <th>Amount2</th>\n",
       "    </tr>\n",
       "    <tr>\n",
       "      <th>Class</th>\n",
       "      <th></th>\n",
       "      <th></th>\n",
       "      <th></th>\n",
       "    </tr>\n",
       "  </thead>\n",
       "  <tbody>\n",
       "    <tr>\n",
       "      <th>0</th>\n",
       "      <td>88.291022</td>\n",
       "      <td>0.008258</td>\n",
       "      <td>0.088291</td>\n",
       "    </tr>\n",
       "    <tr>\n",
       "      <th>1</th>\n",
       "      <td>122.211321</td>\n",
       "      <td>-4.771948</td>\n",
       "      <td>0.122211</td>\n",
       "    </tr>\n",
       "  </tbody>\n",
       "</table>\n",
       "</div>"
      ],
      "text/plain": [
       "           Amount        V1   Amount2\n",
       "Class                                \n",
       "0       88.291022  0.008258  0.088291\n",
       "1      122.211321 -4.771948  0.122211"
      ]
     },
     "execution_count": 24,
     "metadata": {},
     "output_type": "execute_result"
    }
   ],
   "source": [
    "gb.compute()"
   ]
  },
  {
   "cell_type": "markdown",
   "metadata": {},
   "source": [
    "**WARNING:**\n",
    "- Group_by reduces the number partitions to a small number of partitions\n",
    "- If the number of groups is large it can lead to memory issues\n",
    "- A possible solution is to explicitly repartition on the grouping key and use `map_partitions()`"
   ]
  },
  {
   "cell_type": "markdown",
   "metadata": {},
   "source": [
    "# Parallelizing the prediction of the model\n",
    "\n",
    "- In order to parallelize predictions on a distributed dataframe, we need to have an already trained model.\n",
    "- We can either import it from as a pickle, or any other format. For the sake of the demonstration we will create one directly in the notebook."
   ]
  },
  {
   "cell_type": "code",
   "execution_count": 25,
   "metadata": {},
   "outputs": [
    {
     "name": "stderr",
     "output_type": "stream",
     "text": [
      "/home/iaamini/Documents/adobis-staytime/venv2/lib/python3.6/site-packages/sklearn/linear_model/logistic.py:432: FutureWarning: Default solver will be changed to 'lbfgs' in 0.22. Specify a solver to silence this warning.\n",
      "  FutureWarning)\n"
     ]
    },
    {
     "data": {
      "text/plain": [
       "LogisticRegression(C=1.0, class_weight=None, dual=False, fit_intercept=True,\n",
       "                   intercept_scaling=1, l1_ratio=None, max_iter=100,\n",
       "                   multi_class='warn', n_jobs=None, penalty='l2',\n",
       "                   random_state=None, solver='warn', tol=0.0001, verbose=0,\n",
       "                   warm_start=False)"
      ]
     },
     "execution_count": 25,
     "metadata": {},
     "output_type": "execute_result"
    }
   ],
   "source": [
    "from sklearn.linear_model import LogisticRegression\n",
    "\n",
    "X_cols = fraud.drop('Class', axis=1).columns\n",
    "\n",
    "# We take a small sub-sample for training\n",
    "fraud0 = fraud.sample(frac=0.1).compute() \n",
    "y = fraud0['Class'].values\n",
    "X = fraud0[X_cols].values\n",
    "\n",
    "\n",
    "clf = LogisticRegression(solver='warn')\n",
    "clf.fit(X, y)"
   ]
  },
  {
   "cell_type": "markdown",
   "metadata": {},
   "source": [
    "- Once we have a trained model, we will distribute its evaluation on the full DataFrame\n",
    "- We need: \n",
    "    1. To define a function to apply the prediction in parallel\n",
    "    2. To distribute the trained model on all workers"
   ]
  },
  {
   "cell_type": "code",
   "execution_count": 26,
   "metadata": {},
   "outputs": [],
   "source": [
    "def predict_model(x, model):\n",
    "    return model.predict([x])[0]"
   ]
  },
  {
   "cell_type": "markdown",
   "metadata": {},
   "source": [
    "- We use *c.scatter()* to distribute the model"
   ]
  },
  {
   "cell_type": "code",
   "execution_count": 27,
   "metadata": {},
   "outputs": [],
   "source": [
    "future_model = c.scatter(clf, broadcast=True)"
   ]
  },
  {
   "cell_type": "markdown",
   "metadata": {},
   "source": [
    "- Now we apply the predict function row wise"
   ]
  },
  {
   "cell_type": "code",
   "execution_count": 28,
   "metadata": {},
   "outputs": [
    {
     "ename": "ValueError",
     "evalue": "Metadata inference failed in `apply`.\n\nYou have supplied a custom function and Dask is unable to \ndetermine the type of output that that function returns. \n\nTo resolve this please provide a meta= keyword.\nThe docstring of the Dask function you ran should have more information.\n\nOriginal error is below:\n------------------------\nAttributeError(\"'Future' object has no attribute 'predict'\", 'occurred at index 0')\n\nTraceback:\n---------\n  File \"/home/iaamini/Documents/adobis-staytime/venv2/lib/python3.6/site-packages/dask/dataframe/utils.py\", line 169, in raise_on_meta_error\n    yield\n  File \"/home/iaamini/Documents/adobis-staytime/venv2/lib/python3.6/site-packages/dask/dataframe/core.py\", line 4741, in _emulate\n    return func(*_extract_meta(args, True), **_extract_meta(kwargs, True))\n  File \"/home/iaamini/Documents/adobis-staytime/venv2/lib/python3.6/site-packages/dask/utils.py\", line 881, in __call__\n    return getattr(obj, self.method)(*args, **kwargs)\n  File \"/home/iaamini/Documents/adobis-staytime/venv2/lib/python3.6/site-packages/pandas/core/frame.py\", line 6928, in apply\n    return op.get_result()\n  File \"/home/iaamini/Documents/adobis-staytime/venv2/lib/python3.6/site-packages/pandas/core/apply.py\", line 186, in get_result\n    return self.apply_standard()\n  File \"/home/iaamini/Documents/adobis-staytime/venv2/lib/python3.6/site-packages/pandas/core/apply.py\", line 292, in apply_standard\n    self.apply_series_generator()\n  File \"/home/iaamini/Documents/adobis-staytime/venv2/lib/python3.6/site-packages/pandas/core/apply.py\", line 321, in apply_series_generator\n    results[i] = self.f(v)\n  File \"/home/iaamini/Documents/adobis-staytime/venv2/lib/python3.6/site-packages/pandas/core/apply.py\", line 112, in f\n    return func(x, *args, **kwds)\n  File \"<ipython-input-26-6b551b503038>\", line 2, in predict_model\n    return model.predict([x])[0]\n",
     "output_type": "error",
     "traceback": [
      "\u001b[0;31m---------------------------------------------------------------------------\u001b[0m",
      "\u001b[0;31mAttributeError\u001b[0m                            Traceback (most recent call last)",
      "\u001b[0;32m~/Documents/adobis-staytime/venv2/lib/python3.6/site-packages/dask/dataframe/utils.py\u001b[0m in \u001b[0;36mraise_on_meta_error\u001b[0;34m(funcname, udf)\u001b[0m\n\u001b[1;32m    168\u001b[0m     \u001b[0;32mtry\u001b[0m\u001b[0;34m:\u001b[0m\u001b[0;34m\u001b[0m\u001b[0;34m\u001b[0m\u001b[0m\n\u001b[0;32m--> 169\u001b[0;31m         \u001b[0;32myield\u001b[0m\u001b[0;34m\u001b[0m\u001b[0;34m\u001b[0m\u001b[0m\n\u001b[0m\u001b[1;32m    170\u001b[0m     \u001b[0;32mexcept\u001b[0m \u001b[0mException\u001b[0m \u001b[0;32mas\u001b[0m \u001b[0me\u001b[0m\u001b[0;34m:\u001b[0m\u001b[0;34m\u001b[0m\u001b[0;34m\u001b[0m\u001b[0m\n",
      "\u001b[0;32m~/Documents/adobis-staytime/venv2/lib/python3.6/site-packages/dask/dataframe/core.py\u001b[0m in \u001b[0;36m_emulate\u001b[0;34m(func, *args, **kwargs)\u001b[0m\n\u001b[1;32m   4740\u001b[0m     \u001b[0;32mwith\u001b[0m \u001b[0mraise_on_meta_error\u001b[0m\u001b[0;34m(\u001b[0m\u001b[0mfuncname\u001b[0m\u001b[0;34m(\u001b[0m\u001b[0mfunc\u001b[0m\u001b[0;34m)\u001b[0m\u001b[0;34m,\u001b[0m \u001b[0mudf\u001b[0m\u001b[0;34m=\u001b[0m\u001b[0mkwargs\u001b[0m\u001b[0;34m.\u001b[0m\u001b[0mpop\u001b[0m\u001b[0;34m(\u001b[0m\u001b[0;34m\"udf\"\u001b[0m\u001b[0;34m,\u001b[0m \u001b[0;32mFalse\u001b[0m\u001b[0;34m)\u001b[0m\u001b[0;34m)\u001b[0m\u001b[0;34m:\u001b[0m\u001b[0;34m\u001b[0m\u001b[0;34m\u001b[0m\u001b[0m\n\u001b[0;32m-> 4741\u001b[0;31m         \u001b[0;32mreturn\u001b[0m \u001b[0mfunc\u001b[0m\u001b[0;34m(\u001b[0m\u001b[0;34m*\u001b[0m\u001b[0m_extract_meta\u001b[0m\u001b[0;34m(\u001b[0m\u001b[0margs\u001b[0m\u001b[0;34m,\u001b[0m \u001b[0;32mTrue\u001b[0m\u001b[0;34m)\u001b[0m\u001b[0;34m,\u001b[0m \u001b[0;34m**\u001b[0m\u001b[0m_extract_meta\u001b[0m\u001b[0;34m(\u001b[0m\u001b[0mkwargs\u001b[0m\u001b[0;34m,\u001b[0m \u001b[0;32mTrue\u001b[0m\u001b[0;34m)\u001b[0m\u001b[0;34m)\u001b[0m\u001b[0;34m\u001b[0m\u001b[0;34m\u001b[0m\u001b[0m\n\u001b[0m\u001b[1;32m   4742\u001b[0m \u001b[0;34m\u001b[0m\u001b[0m\n",
      "\u001b[0;32m~/Documents/adobis-staytime/venv2/lib/python3.6/site-packages/dask/utils.py\u001b[0m in \u001b[0;36m__call__\u001b[0;34m(self, obj, *args, **kwargs)\u001b[0m\n\u001b[1;32m    880\u001b[0m     \u001b[0;32mdef\u001b[0m \u001b[0m__call__\u001b[0m\u001b[0;34m(\u001b[0m\u001b[0mself\u001b[0m\u001b[0;34m,\u001b[0m \u001b[0mobj\u001b[0m\u001b[0;34m,\u001b[0m \u001b[0;34m*\u001b[0m\u001b[0margs\u001b[0m\u001b[0;34m,\u001b[0m \u001b[0;34m**\u001b[0m\u001b[0mkwargs\u001b[0m\u001b[0;34m)\u001b[0m\u001b[0;34m:\u001b[0m\u001b[0;34m\u001b[0m\u001b[0;34m\u001b[0m\u001b[0m\n\u001b[0;32m--> 881\u001b[0;31m         \u001b[0;32mreturn\u001b[0m \u001b[0mgetattr\u001b[0m\u001b[0;34m(\u001b[0m\u001b[0mobj\u001b[0m\u001b[0;34m,\u001b[0m \u001b[0mself\u001b[0m\u001b[0;34m.\u001b[0m\u001b[0mmethod\u001b[0m\u001b[0;34m)\u001b[0m\u001b[0;34m(\u001b[0m\u001b[0;34m*\u001b[0m\u001b[0margs\u001b[0m\u001b[0;34m,\u001b[0m \u001b[0;34m**\u001b[0m\u001b[0mkwargs\u001b[0m\u001b[0;34m)\u001b[0m\u001b[0;34m\u001b[0m\u001b[0;34m\u001b[0m\u001b[0m\n\u001b[0m\u001b[1;32m    882\u001b[0m \u001b[0;34m\u001b[0m\u001b[0m\n",
      "\u001b[0;32m~/Documents/adobis-staytime/venv2/lib/python3.6/site-packages/pandas/core/frame.py\u001b[0m in \u001b[0;36mapply\u001b[0;34m(self, func, axis, broadcast, raw, reduce, result_type, args, **kwds)\u001b[0m\n\u001b[1;32m   6927\u001b[0m         )\n\u001b[0;32m-> 6928\u001b[0;31m         \u001b[0;32mreturn\u001b[0m \u001b[0mop\u001b[0m\u001b[0;34m.\u001b[0m\u001b[0mget_result\u001b[0m\u001b[0;34m(\u001b[0m\u001b[0;34m)\u001b[0m\u001b[0;34m\u001b[0m\u001b[0;34m\u001b[0m\u001b[0m\n\u001b[0m\u001b[1;32m   6929\u001b[0m \u001b[0;34m\u001b[0m\u001b[0m\n",
      "\u001b[0;32m~/Documents/adobis-staytime/venv2/lib/python3.6/site-packages/pandas/core/apply.py\u001b[0m in \u001b[0;36mget_result\u001b[0;34m(self)\u001b[0m\n\u001b[1;32m    185\u001b[0m \u001b[0;34m\u001b[0m\u001b[0m\n\u001b[0;32m--> 186\u001b[0;31m         \u001b[0;32mreturn\u001b[0m \u001b[0mself\u001b[0m\u001b[0;34m.\u001b[0m\u001b[0mapply_standard\u001b[0m\u001b[0;34m(\u001b[0m\u001b[0;34m)\u001b[0m\u001b[0;34m\u001b[0m\u001b[0;34m\u001b[0m\u001b[0m\n\u001b[0m\u001b[1;32m    187\u001b[0m \u001b[0;34m\u001b[0m\u001b[0m\n",
      "\u001b[0;32m~/Documents/adobis-staytime/venv2/lib/python3.6/site-packages/pandas/core/apply.py\u001b[0m in \u001b[0;36mapply_standard\u001b[0;34m(self)\u001b[0m\n\u001b[1;32m    291\u001b[0m         \u001b[0;31m# compute the result using the series generator\u001b[0m\u001b[0;34m\u001b[0m\u001b[0;34m\u001b[0m\u001b[0;34m\u001b[0m\u001b[0m\n\u001b[0;32m--> 292\u001b[0;31m         \u001b[0mself\u001b[0m\u001b[0;34m.\u001b[0m\u001b[0mapply_series_generator\u001b[0m\u001b[0;34m(\u001b[0m\u001b[0;34m)\u001b[0m\u001b[0;34m\u001b[0m\u001b[0;34m\u001b[0m\u001b[0m\n\u001b[0m\u001b[1;32m    293\u001b[0m \u001b[0;34m\u001b[0m\u001b[0m\n",
      "\u001b[0;32m~/Documents/adobis-staytime/venv2/lib/python3.6/site-packages/pandas/core/apply.py\u001b[0m in \u001b[0;36mapply_series_generator\u001b[0;34m(self)\u001b[0m\n\u001b[1;32m    320\u001b[0m                 \u001b[0;32mfor\u001b[0m \u001b[0mi\u001b[0m\u001b[0;34m,\u001b[0m \u001b[0mv\u001b[0m \u001b[0;32min\u001b[0m \u001b[0menumerate\u001b[0m\u001b[0;34m(\u001b[0m\u001b[0mseries_gen\u001b[0m\u001b[0;34m)\u001b[0m\u001b[0;34m:\u001b[0m\u001b[0;34m\u001b[0m\u001b[0;34m\u001b[0m\u001b[0m\n\u001b[0;32m--> 321\u001b[0;31m                     \u001b[0mresults\u001b[0m\u001b[0;34m[\u001b[0m\u001b[0mi\u001b[0m\u001b[0;34m]\u001b[0m \u001b[0;34m=\u001b[0m \u001b[0mself\u001b[0m\u001b[0;34m.\u001b[0m\u001b[0mf\u001b[0m\u001b[0;34m(\u001b[0m\u001b[0mv\u001b[0m\u001b[0;34m)\u001b[0m\u001b[0;34m\u001b[0m\u001b[0;34m\u001b[0m\u001b[0m\n\u001b[0m\u001b[1;32m    322\u001b[0m                     \u001b[0mkeys\u001b[0m\u001b[0;34m.\u001b[0m\u001b[0mappend\u001b[0m\u001b[0;34m(\u001b[0m\u001b[0mv\u001b[0m\u001b[0;34m.\u001b[0m\u001b[0mname\u001b[0m\u001b[0;34m)\u001b[0m\u001b[0;34m\u001b[0m\u001b[0;34m\u001b[0m\u001b[0m\n",
      "\u001b[0;32m~/Documents/adobis-staytime/venv2/lib/python3.6/site-packages/pandas/core/apply.py\u001b[0m in \u001b[0;36mf\u001b[0;34m(x)\u001b[0m\n\u001b[1;32m    111\u001b[0m             \u001b[0;32mdef\u001b[0m \u001b[0mf\u001b[0m\u001b[0;34m(\u001b[0m\u001b[0mx\u001b[0m\u001b[0;34m)\u001b[0m\u001b[0;34m:\u001b[0m\u001b[0;34m\u001b[0m\u001b[0;34m\u001b[0m\u001b[0m\n\u001b[0;32m--> 112\u001b[0;31m                 \u001b[0;32mreturn\u001b[0m \u001b[0mfunc\u001b[0m\u001b[0;34m(\u001b[0m\u001b[0mx\u001b[0m\u001b[0;34m,\u001b[0m \u001b[0;34m*\u001b[0m\u001b[0margs\u001b[0m\u001b[0;34m,\u001b[0m \u001b[0;34m**\u001b[0m\u001b[0mkwds\u001b[0m\u001b[0;34m)\u001b[0m\u001b[0;34m\u001b[0m\u001b[0;34m\u001b[0m\u001b[0m\n\u001b[0m\u001b[1;32m    113\u001b[0m \u001b[0;34m\u001b[0m\u001b[0m\n",
      "\u001b[0;32m<ipython-input-26-6b551b503038>\u001b[0m in \u001b[0;36mpredict_model\u001b[0;34m(x, model)\u001b[0m\n\u001b[1;32m      1\u001b[0m \u001b[0;32mdef\u001b[0m \u001b[0mpredict_model\u001b[0m\u001b[0;34m(\u001b[0m\u001b[0mx\u001b[0m\u001b[0;34m,\u001b[0m \u001b[0mmodel\u001b[0m\u001b[0;34m)\u001b[0m\u001b[0;34m:\u001b[0m\u001b[0;34m\u001b[0m\u001b[0;34m\u001b[0m\u001b[0m\n\u001b[0;32m----> 2\u001b[0;31m     \u001b[0;32mreturn\u001b[0m \u001b[0mmodel\u001b[0m\u001b[0;34m.\u001b[0m\u001b[0mpredict\u001b[0m\u001b[0;34m(\u001b[0m\u001b[0;34m[\u001b[0m\u001b[0mx\u001b[0m\u001b[0;34m]\u001b[0m\u001b[0;34m)\u001b[0m\u001b[0;34m[\u001b[0m\u001b[0;36m0\u001b[0m\u001b[0;34m]\u001b[0m\u001b[0;34m\u001b[0m\u001b[0;34m\u001b[0m\u001b[0m\n\u001b[0m",
      "\u001b[0;31mAttributeError\u001b[0m: (\"'Future' object has no attribute 'predict'\", 'occurred at index 0')",
      "\nDuring handling of the above exception, another exception occurred:\n",
      "\u001b[0;31mValueError\u001b[0m                                Traceback (most recent call last)",
      "\u001b[0;32m<ipython-input-28-3b3f1ac85cdf>\u001b[0m in \u001b[0;36m<module>\u001b[0;34m\u001b[0m\n\u001b[0;32m----> 1\u001b[0;31m \u001b[0mpredictions\u001b[0m \u001b[0;34m=\u001b[0m \u001b[0mfraud\u001b[0m\u001b[0;34m[\u001b[0m\u001b[0mX_cols\u001b[0m\u001b[0;34m]\u001b[0m\u001b[0;34m.\u001b[0m\u001b[0msample\u001b[0m\u001b[0;34m(\u001b[0m\u001b[0mfrac\u001b[0m\u001b[0;34m=\u001b[0m\u001b[0;36m0.1\u001b[0m\u001b[0;34m)\u001b[0m\u001b[0;34m.\u001b[0m\u001b[0mapply\u001b[0m\u001b[0;34m(\u001b[0m\u001b[0mpredict_model\u001b[0m\u001b[0;34m,\u001b[0m \u001b[0mmodel\u001b[0m\u001b[0;34m=\u001b[0m\u001b[0mfuture_model\u001b[0m\u001b[0;34m,\u001b[0m \u001b[0maxis\u001b[0m\u001b[0;34m=\u001b[0m\u001b[0;36m1\u001b[0m\u001b[0;34m)\u001b[0m\u001b[0;34m\u001b[0m\u001b[0;34m\u001b[0m\u001b[0m\n\u001b[0m",
      "\u001b[0;32m~/Documents/adobis-staytime/venv2/lib/python3.6/site-packages/dask/dataframe/core.py\u001b[0m in \u001b[0;36mapply\u001b[0;34m(self, func, axis, broadcast, raw, reduce, args, meta, **kwds)\u001b[0m\n\u001b[1;32m   3993\u001b[0m         \u001b[0;32mif\u001b[0m \u001b[0mmeta\u001b[0m \u001b[0;32mis\u001b[0m \u001b[0mno_default\u001b[0m\u001b[0;34m:\u001b[0m\u001b[0;34m\u001b[0m\u001b[0;34m\u001b[0m\u001b[0m\n\u001b[1;32m   3994\u001b[0m             meta = _emulate(\n\u001b[0;32m-> 3995\u001b[0;31m                 \u001b[0mM\u001b[0m\u001b[0;34m.\u001b[0m\u001b[0mapply\u001b[0m\u001b[0;34m,\u001b[0m \u001b[0mself\u001b[0m\u001b[0;34m.\u001b[0m\u001b[0m_meta_nonempty\u001b[0m\u001b[0;34m,\u001b[0m \u001b[0mfunc\u001b[0m\u001b[0;34m,\u001b[0m \u001b[0margs\u001b[0m\u001b[0;34m=\u001b[0m\u001b[0margs\u001b[0m\u001b[0;34m,\u001b[0m \u001b[0mudf\u001b[0m\u001b[0;34m=\u001b[0m\u001b[0;32mTrue\u001b[0m\u001b[0;34m,\u001b[0m \u001b[0;34m**\u001b[0m\u001b[0mkwds\u001b[0m\u001b[0;34m\u001b[0m\u001b[0;34m\u001b[0m\u001b[0m\n\u001b[0m\u001b[1;32m   3996\u001b[0m             )\n\u001b[1;32m   3997\u001b[0m             \u001b[0mwarnings\u001b[0m\u001b[0;34m.\u001b[0m\u001b[0mwarn\u001b[0m\u001b[0;34m(\u001b[0m\u001b[0mmeta_warning\u001b[0m\u001b[0;34m(\u001b[0m\u001b[0mmeta\u001b[0m\u001b[0;34m)\u001b[0m\u001b[0;34m)\u001b[0m\u001b[0;34m\u001b[0m\u001b[0;34m\u001b[0m\u001b[0m\n",
      "\u001b[0;32m~/Documents/adobis-staytime/venv2/lib/python3.6/site-packages/dask/dataframe/core.py\u001b[0m in \u001b[0;36m_emulate\u001b[0;34m(func, *args, **kwargs)\u001b[0m\n\u001b[1;32m   4739\u001b[0m     \"\"\"\n\u001b[1;32m   4740\u001b[0m     \u001b[0;32mwith\u001b[0m \u001b[0mraise_on_meta_error\u001b[0m\u001b[0;34m(\u001b[0m\u001b[0mfuncname\u001b[0m\u001b[0;34m(\u001b[0m\u001b[0mfunc\u001b[0m\u001b[0;34m)\u001b[0m\u001b[0;34m,\u001b[0m \u001b[0mudf\u001b[0m\u001b[0;34m=\u001b[0m\u001b[0mkwargs\u001b[0m\u001b[0;34m.\u001b[0m\u001b[0mpop\u001b[0m\u001b[0;34m(\u001b[0m\u001b[0;34m\"udf\"\u001b[0m\u001b[0;34m,\u001b[0m \u001b[0;32mFalse\u001b[0m\u001b[0;34m)\u001b[0m\u001b[0;34m)\u001b[0m\u001b[0;34m:\u001b[0m\u001b[0;34m\u001b[0m\u001b[0;34m\u001b[0m\u001b[0m\n\u001b[0;32m-> 4741\u001b[0;31m         \u001b[0;32mreturn\u001b[0m \u001b[0mfunc\u001b[0m\u001b[0;34m(\u001b[0m\u001b[0;34m*\u001b[0m\u001b[0m_extract_meta\u001b[0m\u001b[0;34m(\u001b[0m\u001b[0margs\u001b[0m\u001b[0;34m,\u001b[0m \u001b[0;32mTrue\u001b[0m\u001b[0;34m)\u001b[0m\u001b[0;34m,\u001b[0m \u001b[0;34m**\u001b[0m\u001b[0m_extract_meta\u001b[0m\u001b[0;34m(\u001b[0m\u001b[0mkwargs\u001b[0m\u001b[0;34m,\u001b[0m \u001b[0;32mTrue\u001b[0m\u001b[0;34m)\u001b[0m\u001b[0;34m)\u001b[0m\u001b[0;34m\u001b[0m\u001b[0;34m\u001b[0m\u001b[0m\n\u001b[0m\u001b[1;32m   4742\u001b[0m \u001b[0;34m\u001b[0m\u001b[0m\n\u001b[1;32m   4743\u001b[0m \u001b[0;34m\u001b[0m\u001b[0m\n",
      "\u001b[0;32m/usr/lib/python3.6/contextlib.py\u001b[0m in \u001b[0;36m__exit__\u001b[0;34m(self, type, value, traceback)\u001b[0m\n\u001b[1;32m     97\u001b[0m                 \u001b[0mvalue\u001b[0m \u001b[0;34m=\u001b[0m \u001b[0mtype\u001b[0m\u001b[0;34m(\u001b[0m\u001b[0;34m)\u001b[0m\u001b[0;34m\u001b[0m\u001b[0;34m\u001b[0m\u001b[0m\n\u001b[1;32m     98\u001b[0m             \u001b[0;32mtry\u001b[0m\u001b[0;34m:\u001b[0m\u001b[0;34m\u001b[0m\u001b[0;34m\u001b[0m\u001b[0m\n\u001b[0;32m---> 99\u001b[0;31m                 \u001b[0mself\u001b[0m\u001b[0;34m.\u001b[0m\u001b[0mgen\u001b[0m\u001b[0;34m.\u001b[0m\u001b[0mthrow\u001b[0m\u001b[0;34m(\u001b[0m\u001b[0mtype\u001b[0m\u001b[0;34m,\u001b[0m \u001b[0mvalue\u001b[0m\u001b[0;34m,\u001b[0m \u001b[0mtraceback\u001b[0m\u001b[0;34m)\u001b[0m\u001b[0;34m\u001b[0m\u001b[0;34m\u001b[0m\u001b[0m\n\u001b[0m\u001b[1;32m    100\u001b[0m             \u001b[0;32mexcept\u001b[0m \u001b[0mStopIteration\u001b[0m \u001b[0;32mas\u001b[0m \u001b[0mexc\u001b[0m\u001b[0;34m:\u001b[0m\u001b[0;34m\u001b[0m\u001b[0;34m\u001b[0m\u001b[0m\n\u001b[1;32m    101\u001b[0m                 \u001b[0;31m# Suppress StopIteration *unless* it's the same exception that\u001b[0m\u001b[0;34m\u001b[0m\u001b[0;34m\u001b[0m\u001b[0;34m\u001b[0m\u001b[0m\n",
      "\u001b[0;32m~/Documents/adobis-staytime/venv2/lib/python3.6/site-packages/dask/dataframe/utils.py\u001b[0m in \u001b[0;36mraise_on_meta_error\u001b[0;34m(funcname, udf)\u001b[0m\n\u001b[1;32m    188\u001b[0m         )\n\u001b[1;32m    189\u001b[0m         \u001b[0mmsg\u001b[0m \u001b[0;34m=\u001b[0m \u001b[0mmsg\u001b[0m\u001b[0;34m.\u001b[0m\u001b[0mformat\u001b[0m\u001b[0;34m(\u001b[0m\u001b[0;34m\" in `{0}`\"\u001b[0m\u001b[0;34m.\u001b[0m\u001b[0mformat\u001b[0m\u001b[0;34m(\u001b[0m\u001b[0mfuncname\u001b[0m\u001b[0;34m)\u001b[0m \u001b[0;32mif\u001b[0m \u001b[0mfuncname\u001b[0m \u001b[0;32melse\u001b[0m \u001b[0;34m\"\"\u001b[0m\u001b[0;34m,\u001b[0m \u001b[0mrepr\u001b[0m\u001b[0;34m(\u001b[0m\u001b[0me\u001b[0m\u001b[0;34m)\u001b[0m\u001b[0;34m,\u001b[0m \u001b[0mtb\u001b[0m\u001b[0;34m)\u001b[0m\u001b[0;34m\u001b[0m\u001b[0;34m\u001b[0m\u001b[0m\n\u001b[0;32m--> 190\u001b[0;31m         \u001b[0;32mraise\u001b[0m \u001b[0mValueError\u001b[0m\u001b[0;34m(\u001b[0m\u001b[0mmsg\u001b[0m\u001b[0;34m)\u001b[0m\u001b[0;34m\u001b[0m\u001b[0;34m\u001b[0m\u001b[0m\n\u001b[0m\u001b[1;32m    191\u001b[0m \u001b[0;34m\u001b[0m\u001b[0m\n\u001b[1;32m    192\u001b[0m \u001b[0;34m\u001b[0m\u001b[0m\n",
      "\u001b[0;31mValueError\u001b[0m: Metadata inference failed in `apply`.\n\nYou have supplied a custom function and Dask is unable to \ndetermine the type of output that that function returns. \n\nTo resolve this please provide a meta= keyword.\nThe docstring of the Dask function you ran should have more information.\n\nOriginal error is below:\n------------------------\nAttributeError(\"'Future' object has no attribute 'predict'\", 'occurred at index 0')\n\nTraceback:\n---------\n  File \"/home/iaamini/Documents/adobis-staytime/venv2/lib/python3.6/site-packages/dask/dataframe/utils.py\", line 169, in raise_on_meta_error\n    yield\n  File \"/home/iaamini/Documents/adobis-staytime/venv2/lib/python3.6/site-packages/dask/dataframe/core.py\", line 4741, in _emulate\n    return func(*_extract_meta(args, True), **_extract_meta(kwargs, True))\n  File \"/home/iaamini/Documents/adobis-staytime/venv2/lib/python3.6/site-packages/dask/utils.py\", line 881, in __call__\n    return getattr(obj, self.method)(*args, **kwargs)\n  File \"/home/iaamini/Documents/adobis-staytime/venv2/lib/python3.6/site-packages/pandas/core/frame.py\", line 6928, in apply\n    return op.get_result()\n  File \"/home/iaamini/Documents/adobis-staytime/venv2/lib/python3.6/site-packages/pandas/core/apply.py\", line 186, in get_result\n    return self.apply_standard()\n  File \"/home/iaamini/Documents/adobis-staytime/venv2/lib/python3.6/site-packages/pandas/core/apply.py\", line 292, in apply_standard\n    self.apply_series_generator()\n  File \"/home/iaamini/Documents/adobis-staytime/venv2/lib/python3.6/site-packages/pandas/core/apply.py\", line 321, in apply_series_generator\n    results[i] = self.f(v)\n  File \"/home/iaamini/Documents/adobis-staytime/venv2/lib/python3.6/site-packages/pandas/core/apply.py\", line 112, in f\n    return func(x, *args, **kwds)\n  File \"<ipython-input-26-6b551b503038>\", line 2, in predict_model\n    return model.predict([x])[0]\n"
     ]
    }
   ],
   "source": [
    "predictions = fraud[X_cols].sample(frac=0.1).apply(predict_model, model=future_model, axis=1)"
   ]
  },
  {
   "cell_type": "markdown",
   "metadata": {},
   "source": [
    "- Dask complains that it can't guess the output type\n",
    "- We need to help, so we apply our function on a small DataFrame:"
   ]
  },
  {
   "cell_type": "code",
   "execution_count": 29,
   "metadata": {},
   "outputs": [],
   "source": [
    "res0 = fraud0[X_cols].sample(2).apply(predict_model, model=clf,  axis=1)"
   ]
  },
  {
   "cell_type": "code",
   "execution_count": 30,
   "metadata": {},
   "outputs": [
    {
     "data": {
      "text/plain": [
       "62214    0\n",
       "57826    0\n",
       "dtype: int64"
      ]
     },
     "execution_count": 30,
     "metadata": {},
     "output_type": "execute_result"
    }
   ],
   "source": [
    "res0"
   ]
  },
  {
   "cell_type": "markdown",
   "metadata": {},
   "source": [
    "- We then provide the type information through the `meta` argument"
   ]
  },
  {
   "cell_type": "code",
   "execution_count": 31,
   "metadata": {},
   "outputs": [],
   "source": [
    "predictions = fraud[X_cols].sample(frac=0.1).apply(predict_model, model=future_model, axis=1, meta=res0)"
   ]
  },
  {
   "cell_type": "code",
   "execution_count": 32,
   "metadata": {
    "scrolled": true
   },
   "outputs": [
    {
     "data": {
      "text/plain": [
       "['/home/iaamini/Documents/adobis-staytime/adobis-staytime-prediction/notebooks/preds/predictions_apply-00.csv',\n",
       " '/home/iaamini/Documents/adobis-staytime/adobis-staytime-prediction/notebooks/preds/predictions_apply-01.csv',\n",
       " '/home/iaamini/Documents/adobis-staytime/adobis-staytime-prediction/notebooks/preds/predictions_apply-02.csv',\n",
       " '/home/iaamini/Documents/adobis-staytime/adobis-staytime-prediction/notebooks/preds/predictions_apply-03.csv',\n",
       " '/home/iaamini/Documents/adobis-staytime/adobis-staytime-prediction/notebooks/preds/predictions_apply-04.csv',\n",
       " '/home/iaamini/Documents/adobis-staytime/adobis-staytime-prediction/notebooks/preds/predictions_apply-05.csv',\n",
       " '/home/iaamini/Documents/adobis-staytime/adobis-staytime-prediction/notebooks/preds/predictions_apply-06.csv',\n",
       " '/home/iaamini/Documents/adobis-staytime/adobis-staytime-prediction/notebooks/preds/predictions_apply-07.csv',\n",
       " '/home/iaamini/Documents/adobis-staytime/adobis-staytime-prediction/notebooks/preds/predictions_apply-08.csv',\n",
       " '/home/iaamini/Documents/adobis-staytime/adobis-staytime-prediction/notebooks/preds/predictions_apply-09.csv',\n",
       " '/home/iaamini/Documents/adobis-staytime/adobis-staytime-prediction/notebooks/preds/predictions_apply-10.csv',\n",
       " '/home/iaamini/Documents/adobis-staytime/adobis-staytime-prediction/notebooks/preds/predictions_apply-11.csv',\n",
       " '/home/iaamini/Documents/adobis-staytime/adobis-staytime-prediction/notebooks/preds/predictions_apply-12.csv',\n",
       " '/home/iaamini/Documents/adobis-staytime/adobis-staytime-prediction/notebooks/preds/predictions_apply-13.csv',\n",
       " '/home/iaamini/Documents/adobis-staytime/adobis-staytime-prediction/notebooks/preds/predictions_apply-14.csv',\n",
       " '/home/iaamini/Documents/adobis-staytime/adobis-staytime-prediction/notebooks/preds/predictions_apply-15.csv',\n",
       " '/home/iaamini/Documents/adobis-staytime/adobis-staytime-prediction/notebooks/preds/predictions_apply-16.csv',\n",
       " '/home/iaamini/Documents/adobis-staytime/adobis-staytime-prediction/notebooks/preds/predictions_apply-17.csv',\n",
       " '/home/iaamini/Documents/adobis-staytime/adobis-staytime-prediction/notebooks/preds/predictions_apply-18.csv',\n",
       " '/home/iaamini/Documents/adobis-staytime/adobis-staytime-prediction/notebooks/preds/predictions_apply-19.csv',\n",
       " '/home/iaamini/Documents/adobis-staytime/adobis-staytime-prediction/notebooks/preds/predictions_apply-20.csv',\n",
       " '/home/iaamini/Documents/adobis-staytime/adobis-staytime-prediction/notebooks/preds/predictions_apply-21.csv',\n",
       " '/home/iaamini/Documents/adobis-staytime/adobis-staytime-prediction/notebooks/preds/predictions_apply-22.csv',\n",
       " '/home/iaamini/Documents/adobis-staytime/adobis-staytime-prediction/notebooks/preds/predictions_apply-23.csv',\n",
       " '/home/iaamini/Documents/adobis-staytime/adobis-staytime-prediction/notebooks/preds/predictions_apply-24.csv',\n",
       " '/home/iaamini/Documents/adobis-staytime/adobis-staytime-prediction/notebooks/preds/predictions_apply-25.csv',\n",
       " '/home/iaamini/Documents/adobis-staytime/adobis-staytime-prediction/notebooks/preds/predictions_apply-26.csv',\n",
       " '/home/iaamini/Documents/adobis-staytime/adobis-staytime-prediction/notebooks/preds/predictions_apply-27.csv',\n",
       " '/home/iaamini/Documents/adobis-staytime/adobis-staytime-prediction/notebooks/preds/predictions_apply-28.csv',\n",
       " '/home/iaamini/Documents/adobis-staytime/adobis-staytime-prediction/notebooks/preds/predictions_apply-29.csv',\n",
       " '/home/iaamini/Documents/adobis-staytime/adobis-staytime-prediction/notebooks/preds/predictions_apply-30.csv',\n",
       " '/home/iaamini/Documents/adobis-staytime/adobis-staytime-prediction/notebooks/preds/predictions_apply-31.csv',\n",
       " '/home/iaamini/Documents/adobis-staytime/adobis-staytime-prediction/notebooks/preds/predictions_apply-32.csv',\n",
       " '/home/iaamini/Documents/adobis-staytime/adobis-staytime-prediction/notebooks/preds/predictions_apply-33.csv',\n",
       " '/home/iaamini/Documents/adobis-staytime/adobis-staytime-prediction/notebooks/preds/predictions_apply-34.csv',\n",
       " '/home/iaamini/Documents/adobis-staytime/adobis-staytime-prediction/notebooks/preds/predictions_apply-35.csv',\n",
       " '/home/iaamini/Documents/adobis-staytime/adobis-staytime-prediction/notebooks/preds/predictions_apply-36.csv',\n",
       " '/home/iaamini/Documents/adobis-staytime/adobis-staytime-prediction/notebooks/preds/predictions_apply-37.csv',\n",
       " '/home/iaamini/Documents/adobis-staytime/adobis-staytime-prediction/notebooks/preds/predictions_apply-38.csv',\n",
       " '/home/iaamini/Documents/adobis-staytime/adobis-staytime-prediction/notebooks/preds/predictions_apply-39.csv',\n",
       " '/home/iaamini/Documents/adobis-staytime/adobis-staytime-prediction/notebooks/preds/predictions_apply-40.csv',\n",
       " '/home/iaamini/Documents/adobis-staytime/adobis-staytime-prediction/notebooks/preds/predictions_apply-41.csv',\n",
       " '/home/iaamini/Documents/adobis-staytime/adobis-staytime-prediction/notebooks/preds/predictions_apply-42.csv',\n",
       " '/home/iaamini/Documents/adobis-staytime/adobis-staytime-prediction/notebooks/preds/predictions_apply-43.csv',\n",
       " '/home/iaamini/Documents/adobis-staytime/adobis-staytime-prediction/notebooks/preds/predictions_apply-44.csv',\n",
       " '/home/iaamini/Documents/adobis-staytime/adobis-staytime-prediction/notebooks/preds/predictions_apply-45.csv',\n",
       " '/home/iaamini/Documents/adobis-staytime/adobis-staytime-prediction/notebooks/preds/predictions_apply-46.csv',\n",
       " '/home/iaamini/Documents/adobis-staytime/adobis-staytime-prediction/notebooks/preds/predictions_apply-47.csv',\n",
       " '/home/iaamini/Documents/adobis-staytime/adobis-staytime-prediction/notebooks/preds/predictions_apply-48.csv',\n",
       " '/home/iaamini/Documents/adobis-staytime/adobis-staytime-prediction/notebooks/preds/predictions_apply-49.csv',\n",
       " '/home/iaamini/Documents/adobis-staytime/adobis-staytime-prediction/notebooks/preds/predictions_apply-50.csv',\n",
       " '/home/iaamini/Documents/adobis-staytime/adobis-staytime-prediction/notebooks/preds/predictions_apply-51.csv',\n",
       " '/home/iaamini/Documents/adobis-staytime/adobis-staytime-prediction/notebooks/preds/predictions_apply-52.csv',\n",
       " '/home/iaamini/Documents/adobis-staytime/adobis-staytime-prediction/notebooks/preds/predictions_apply-53.csv',\n",
       " '/home/iaamini/Documents/adobis-staytime/adobis-staytime-prediction/notebooks/preds/predictions_apply-54.csv',\n",
       " '/home/iaamini/Documents/adobis-staytime/adobis-staytime-prediction/notebooks/preds/predictions_apply-55.csv',\n",
       " '/home/iaamini/Documents/adobis-staytime/adobis-staytime-prediction/notebooks/preds/predictions_apply-56.csv',\n",
       " '/home/iaamini/Documents/adobis-staytime/adobis-staytime-prediction/notebooks/preds/predictions_apply-57.csv',\n",
       " '/home/iaamini/Documents/adobis-staytime/adobis-staytime-prediction/notebooks/preds/predictions_apply-58.csv',\n",
       " '/home/iaamini/Documents/adobis-staytime/adobis-staytime-prediction/notebooks/preds/predictions_apply-59.csv',\n",
       " '/home/iaamini/Documents/adobis-staytime/adobis-staytime-prediction/notebooks/preds/predictions_apply-60.csv',\n",
       " '/home/iaamini/Documents/adobis-staytime/adobis-staytime-prediction/notebooks/preds/predictions_apply-61.csv',\n",
       " '/home/iaamini/Documents/adobis-staytime/adobis-staytime-prediction/notebooks/preds/predictions_apply-62.csv',\n",
       " '/home/iaamini/Documents/adobis-staytime/adobis-staytime-prediction/notebooks/preds/predictions_apply-63.csv',\n",
       " '/home/iaamini/Documents/adobis-staytime/adobis-staytime-prediction/notebooks/preds/predictions_apply-64.csv',\n",
       " '/home/iaamini/Documents/adobis-staytime/adobis-staytime-prediction/notebooks/preds/predictions_apply-65.csv',\n",
       " '/home/iaamini/Documents/adobis-staytime/adobis-staytime-prediction/notebooks/preds/predictions_apply-66.csv',\n",
       " '/home/iaamini/Documents/adobis-staytime/adobis-staytime-prediction/notebooks/preds/predictions_apply-67.csv',\n",
       " '/home/iaamini/Documents/adobis-staytime/adobis-staytime-prediction/notebooks/preds/predictions_apply-68.csv',\n",
       " '/home/iaamini/Documents/adobis-staytime/adobis-staytime-prediction/notebooks/preds/predictions_apply-69.csv',\n",
       " '/home/iaamini/Documents/adobis-staytime/adobis-staytime-prediction/notebooks/preds/predictions_apply-70.csv',\n",
       " '/home/iaamini/Documents/adobis-staytime/adobis-staytime-prediction/notebooks/preds/predictions_apply-71.csv',\n",
       " '/home/iaamini/Documents/adobis-staytime/adobis-staytime-prediction/notebooks/preds/predictions_apply-72.csv',\n",
       " '/home/iaamini/Documents/adobis-staytime/adobis-staytime-prediction/notebooks/preds/predictions_apply-73.csv',\n",
       " '/home/iaamini/Documents/adobis-staytime/adobis-staytime-prediction/notebooks/preds/predictions_apply-74.csv',\n",
       " '/home/iaamini/Documents/adobis-staytime/adobis-staytime-prediction/notebooks/preds/predictions_apply-75.csv',\n",
       " '/home/iaamini/Documents/adobis-staytime/adobis-staytime-prediction/notebooks/preds/predictions_apply-76.csv',\n",
       " '/home/iaamini/Documents/adobis-staytime/adobis-staytime-prediction/notebooks/preds/predictions_apply-77.csv',\n",
       " '/home/iaamini/Documents/adobis-staytime/adobis-staytime-prediction/notebooks/preds/predictions_apply-78.csv',\n",
       " '/home/iaamini/Documents/adobis-staytime/adobis-staytime-prediction/notebooks/preds/predictions_apply-79.csv',\n",
       " '/home/iaamini/Documents/adobis-staytime/adobis-staytime-prediction/notebooks/preds/predictions_apply-80.csv',\n",
       " '/home/iaamini/Documents/adobis-staytime/adobis-staytime-prediction/notebooks/preds/predictions_apply-81.csv',\n",
       " '/home/iaamini/Documents/adobis-staytime/adobis-staytime-prediction/notebooks/preds/predictions_apply-82.csv',\n",
       " '/home/iaamini/Documents/adobis-staytime/adobis-staytime-prediction/notebooks/preds/predictions_apply-83.csv',\n",
       " '/home/iaamini/Documents/adobis-staytime/adobis-staytime-prediction/notebooks/preds/predictions_apply-84.csv',\n",
       " '/home/iaamini/Documents/adobis-staytime/adobis-staytime-prediction/notebooks/preds/predictions_apply-85.csv',\n",
       " '/home/iaamini/Documents/adobis-staytime/adobis-staytime-prediction/notebooks/preds/predictions_apply-86.csv',\n",
       " '/home/iaamini/Documents/adobis-staytime/adobis-staytime-prediction/notebooks/preds/predictions_apply-87.csv',\n",
       " '/home/iaamini/Documents/adobis-staytime/adobis-staytime-prediction/notebooks/preds/predictions_apply-88.csv',\n",
       " '/home/iaamini/Documents/adobis-staytime/adobis-staytime-prediction/notebooks/preds/predictions_apply-89.csv',\n",
       " '/home/iaamini/Documents/adobis-staytime/adobis-staytime-prediction/notebooks/preds/predictions_apply-90.csv',\n",
       " '/home/iaamini/Documents/adobis-staytime/adobis-staytime-prediction/notebooks/preds/predictions_apply-91.csv',\n",
       " '/home/iaamini/Documents/adobis-staytime/adobis-staytime-prediction/notebooks/preds/predictions_apply-92.csv',\n",
       " '/home/iaamini/Documents/adobis-staytime/adobis-staytime-prediction/notebooks/preds/predictions_apply-93.csv',\n",
       " '/home/iaamini/Documents/adobis-staytime/adobis-staytime-prediction/notebooks/preds/predictions_apply-94.csv',\n",
       " '/home/iaamini/Documents/adobis-staytime/adobis-staytime-prediction/notebooks/preds/predictions_apply-95.csv',\n",
       " '/home/iaamini/Documents/adobis-staytime/adobis-staytime-prediction/notebooks/preds/predictions_apply-96.csv',\n",
       " '/home/iaamini/Documents/adobis-staytime/adobis-staytime-prediction/notebooks/preds/predictions_apply-97.csv',\n",
       " '/home/iaamini/Documents/adobis-staytime/adobis-staytime-prediction/notebooks/preds/predictions_apply-98.csv',\n",
       " '/home/iaamini/Documents/adobis-staytime/adobis-staytime-prediction/notebooks/preds/predictions_apply-99.csv']"
      ]
     },
     "execution_count": 32,
     "metadata": {},
     "output_type": "execute_result"
    }
   ],
   "source": [
    "predictions.to_csv('preds/predictions_apply-*.csv', index=False)"
   ]
  },
  {
   "cell_type": "markdown",
   "metadata": {},
   "source": [
    "- Note that we have subsampled the DataFrame because execution is actually slow\n",
    "- We can significantly improve the execution time by applying the prediction function to a full partition at once"
   ]
  },
  {
   "cell_type": "code",
   "execution_count": 33,
   "metadata": {},
   "outputs": [],
   "source": [
    "def predict_model(X, model):\n",
    "    return pd.Series(model.predict(X), index=X.index)"
   ]
  },
  {
   "cell_type": "code",
   "execution_count": 34,
   "metadata": {},
   "outputs": [],
   "source": [
    "res0 = predict_model(fraud0[X_cols], clf)"
   ]
  },
  {
   "cell_type": "code",
   "execution_count": 35,
   "metadata": {},
   "outputs": [],
   "source": [
    "predictions = fraud[X_cols].map_partitions(predict_model, model=future_model, meta=res0)"
   ]
  },
  {
   "cell_type": "code",
   "execution_count": 3,
   "metadata": {},
   "outputs": [
    {
     "ename": "NameError",
     "evalue": "name 'predictions' is not defined",
     "output_type": "error",
     "traceback": [
      "\u001b[0;31m---------------------------------------------------------------------------\u001b[0m",
      "\u001b[0;31mNameError\u001b[0m                                 Traceback (most recent call last)",
      "\u001b[0;32m<ipython-input-3-fd2951b82103>\u001b[0m in \u001b[0;36m<module>\u001b[0;34m\u001b[0m\n\u001b[0;32m----> 1\u001b[0;31m \u001b[0mpredictions\u001b[0m\u001b[0;34m\u001b[0m\u001b[0;34m\u001b[0m\u001b[0m\n\u001b[0m",
      "\u001b[0;31mNameError\u001b[0m: name 'predictions' is not defined"
     ]
    }
   ],
   "source": [
    "predictions"
   ]
  },
  {
   "cell_type": "code",
   "execution_count": 37,
   "metadata": {
    "scrolled": true
   },
   "outputs": [
    {
     "ename": "KeyboardInterrupt",
     "evalue": "",
     "output_type": "error",
     "traceback": [
      "\u001b[0;31m---------------------------------------------------------------------------\u001b[0m",
      "\u001b[0;31mKeyboardInterrupt\u001b[0m                         Traceback (most recent call last)",
      "\u001b[0;32m<ipython-input-37-bbac55eaac3e>\u001b[0m in \u001b[0;36m<module>\u001b[0;34m\u001b[0m\n\u001b[0;32m----> 1\u001b[0;31m \u001b[0mpredictions\u001b[0m\u001b[0;34m.\u001b[0m\u001b[0mto_csv\u001b[0m\u001b[0;34m(\u001b[0m\u001b[0;34m'preds/predictions_apply-*.csv'\u001b[0m\u001b[0;34m,\u001b[0m \u001b[0mindex\u001b[0m\u001b[0;34m=\u001b[0m\u001b[0;32mFalse\u001b[0m\u001b[0;34m)\u001b[0m\u001b[0;34m\u001b[0m\u001b[0;34m\u001b[0m\u001b[0m\n\u001b[0m",
      "\u001b[0;32m~/Documents/adobis-staytime/venv2/lib/python3.6/site-packages/dask/dataframe/core.py\u001b[0m in \u001b[0;36mto_csv\u001b[0;34m(self, filename, **kwargs)\u001b[0m\n\u001b[1;32m   1291\u001b[0m         \u001b[0;32mfrom\u001b[0m \u001b[0;34m.\u001b[0m\u001b[0mio\u001b[0m \u001b[0;32mimport\u001b[0m \u001b[0mto_csv\u001b[0m\u001b[0;34m\u001b[0m\u001b[0;34m\u001b[0m\u001b[0m\n\u001b[1;32m   1292\u001b[0m \u001b[0;34m\u001b[0m\u001b[0m\n\u001b[0;32m-> 1293\u001b[0;31m         \u001b[0;32mreturn\u001b[0m \u001b[0mto_csv\u001b[0m\u001b[0;34m(\u001b[0m\u001b[0mself\u001b[0m\u001b[0;34m,\u001b[0m \u001b[0mfilename\u001b[0m\u001b[0;34m,\u001b[0m \u001b[0;34m**\u001b[0m\u001b[0mkwargs\u001b[0m\u001b[0;34m)\u001b[0m\u001b[0;34m\u001b[0m\u001b[0;34m\u001b[0m\u001b[0m\n\u001b[0m\u001b[1;32m   1294\u001b[0m \u001b[0;34m\u001b[0m\u001b[0m\n\u001b[1;32m   1295\u001b[0m     \u001b[0;32mdef\u001b[0m \u001b[0mto_json\u001b[0m\u001b[0;34m(\u001b[0m\u001b[0mself\u001b[0m\u001b[0;34m,\u001b[0m \u001b[0mfilename\u001b[0m\u001b[0;34m,\u001b[0m \u001b[0;34m*\u001b[0m\u001b[0margs\u001b[0m\u001b[0;34m,\u001b[0m \u001b[0;34m**\u001b[0m\u001b[0mkwargs\u001b[0m\u001b[0;34m)\u001b[0m\u001b[0;34m:\u001b[0m\u001b[0;34m\u001b[0m\u001b[0;34m\u001b[0m\u001b[0m\n",
      "\u001b[0;32m~/Documents/adobis-staytime/venv2/lib/python3.6/site-packages/dask/dataframe/io/csv.py\u001b[0m in \u001b[0;36mto_csv\u001b[0;34m(df, filename, single_file, encoding, mode, name_function, compression, compute, scheduler, storage_options, header_first_partition_only, **kwargs)\u001b[0m\n\u001b[1;32m    787\u001b[0m         )\n\u001b[1;32m    788\u001b[0m     \u001b[0;32mif\u001b[0m \u001b[0mcompute\u001b[0m\u001b[0;34m:\u001b[0m\u001b[0;34m\u001b[0m\u001b[0;34m\u001b[0m\u001b[0m\n\u001b[0;32m--> 789\u001b[0;31m         \u001b[0mdelayed\u001b[0m\u001b[0;34m(\u001b[0m\u001b[0mvalues\u001b[0m\u001b[0;34m)\u001b[0m\u001b[0;34m.\u001b[0m\u001b[0mcompute\u001b[0m\u001b[0;34m(\u001b[0m\u001b[0mscheduler\u001b[0m\u001b[0;34m=\u001b[0m\u001b[0mscheduler\u001b[0m\u001b[0;34m)\u001b[0m\u001b[0;34m\u001b[0m\u001b[0;34m\u001b[0m\u001b[0m\n\u001b[0m\u001b[1;32m    790\u001b[0m         \u001b[0;32mreturn\u001b[0m \u001b[0;34m[\u001b[0m\u001b[0mf\u001b[0m\u001b[0;34m.\u001b[0m\u001b[0mpath\u001b[0m \u001b[0;32mfor\u001b[0m \u001b[0mf\u001b[0m \u001b[0;32min\u001b[0m \u001b[0mfiles\u001b[0m\u001b[0;34m]\u001b[0m\u001b[0;34m\u001b[0m\u001b[0;34m\u001b[0m\u001b[0m\n\u001b[1;32m    791\u001b[0m     \u001b[0;32melse\u001b[0m\u001b[0;34m:\u001b[0m\u001b[0;34m\u001b[0m\u001b[0;34m\u001b[0m\u001b[0m\n",
      "\u001b[0;32m~/Documents/adobis-staytime/venv2/lib/python3.6/site-packages/dask/base.py\u001b[0m in \u001b[0;36mcompute\u001b[0;34m(self, **kwargs)\u001b[0m\n\u001b[1;32m    163\u001b[0m         \u001b[0mdask\u001b[0m\u001b[0;34m.\u001b[0m\u001b[0mbase\u001b[0m\u001b[0;34m.\u001b[0m\u001b[0mcompute\u001b[0m\u001b[0;34m\u001b[0m\u001b[0;34m\u001b[0m\u001b[0m\n\u001b[1;32m    164\u001b[0m         \"\"\"\n\u001b[0;32m--> 165\u001b[0;31m         \u001b[0;34m(\u001b[0m\u001b[0mresult\u001b[0m\u001b[0;34m,\u001b[0m\u001b[0;34m)\u001b[0m \u001b[0;34m=\u001b[0m \u001b[0mcompute\u001b[0m\u001b[0;34m(\u001b[0m\u001b[0mself\u001b[0m\u001b[0;34m,\u001b[0m \u001b[0mtraverse\u001b[0m\u001b[0;34m=\u001b[0m\u001b[0;32mFalse\u001b[0m\u001b[0;34m,\u001b[0m \u001b[0;34m**\u001b[0m\u001b[0mkwargs\u001b[0m\u001b[0;34m)\u001b[0m\u001b[0;34m\u001b[0m\u001b[0;34m\u001b[0m\u001b[0m\n\u001b[0m\u001b[1;32m    166\u001b[0m         \u001b[0;32mreturn\u001b[0m \u001b[0mresult\u001b[0m\u001b[0;34m\u001b[0m\u001b[0;34m\u001b[0m\u001b[0m\n\u001b[1;32m    167\u001b[0m \u001b[0;34m\u001b[0m\u001b[0m\n",
      "\u001b[0;32m~/Documents/adobis-staytime/venv2/lib/python3.6/site-packages/dask/base.py\u001b[0m in \u001b[0;36mcompute\u001b[0;34m(*args, **kwargs)\u001b[0m\n\u001b[1;32m    434\u001b[0m     \u001b[0mkeys\u001b[0m \u001b[0;34m=\u001b[0m \u001b[0;34m[\u001b[0m\u001b[0mx\u001b[0m\u001b[0;34m.\u001b[0m\u001b[0m__dask_keys__\u001b[0m\u001b[0;34m(\u001b[0m\u001b[0;34m)\u001b[0m \u001b[0;32mfor\u001b[0m \u001b[0mx\u001b[0m \u001b[0;32min\u001b[0m \u001b[0mcollections\u001b[0m\u001b[0;34m]\u001b[0m\u001b[0;34m\u001b[0m\u001b[0;34m\u001b[0m\u001b[0m\n\u001b[1;32m    435\u001b[0m     \u001b[0mpostcomputes\u001b[0m \u001b[0;34m=\u001b[0m \u001b[0;34m[\u001b[0m\u001b[0mx\u001b[0m\u001b[0;34m.\u001b[0m\u001b[0m__dask_postcompute__\u001b[0m\u001b[0;34m(\u001b[0m\u001b[0;34m)\u001b[0m \u001b[0;32mfor\u001b[0m \u001b[0mx\u001b[0m \u001b[0;32min\u001b[0m \u001b[0mcollections\u001b[0m\u001b[0;34m]\u001b[0m\u001b[0;34m\u001b[0m\u001b[0;34m\u001b[0m\u001b[0m\n\u001b[0;32m--> 436\u001b[0;31m     \u001b[0mresults\u001b[0m \u001b[0;34m=\u001b[0m \u001b[0mschedule\u001b[0m\u001b[0;34m(\u001b[0m\u001b[0mdsk\u001b[0m\u001b[0;34m,\u001b[0m \u001b[0mkeys\u001b[0m\u001b[0;34m,\u001b[0m \u001b[0;34m**\u001b[0m\u001b[0mkwargs\u001b[0m\u001b[0;34m)\u001b[0m\u001b[0;34m\u001b[0m\u001b[0;34m\u001b[0m\u001b[0m\n\u001b[0m\u001b[1;32m    437\u001b[0m     \u001b[0;32mreturn\u001b[0m \u001b[0mrepack\u001b[0m\u001b[0;34m(\u001b[0m\u001b[0;34m[\u001b[0m\u001b[0mf\u001b[0m\u001b[0;34m(\u001b[0m\u001b[0mr\u001b[0m\u001b[0;34m,\u001b[0m \u001b[0;34m*\u001b[0m\u001b[0ma\u001b[0m\u001b[0;34m)\u001b[0m \u001b[0;32mfor\u001b[0m \u001b[0mr\u001b[0m\u001b[0;34m,\u001b[0m \u001b[0;34m(\u001b[0m\u001b[0mf\u001b[0m\u001b[0;34m,\u001b[0m \u001b[0ma\u001b[0m\u001b[0;34m)\u001b[0m \u001b[0;32min\u001b[0m \u001b[0mzip\u001b[0m\u001b[0;34m(\u001b[0m\u001b[0mresults\u001b[0m\u001b[0;34m,\u001b[0m \u001b[0mpostcomputes\u001b[0m\u001b[0;34m)\u001b[0m\u001b[0;34m]\u001b[0m\u001b[0;34m)\u001b[0m\u001b[0;34m\u001b[0m\u001b[0;34m\u001b[0m\u001b[0m\n\u001b[1;32m    438\u001b[0m \u001b[0;34m\u001b[0m\u001b[0m\n",
      "\u001b[0;32m~/Documents/adobis-staytime/venv2/lib/python3.6/site-packages/distributed/client.py\u001b[0m in \u001b[0;36mget\u001b[0;34m(self, dsk, keys, restrictions, loose_restrictions, resources, sync, asynchronous, direct, retries, priority, fifo_timeout, actors, **kwargs)\u001b[0m\n\u001b[1;32m   2570\u001b[0m                     \u001b[0mshould_rejoin\u001b[0m \u001b[0;34m=\u001b[0m \u001b[0;32mFalse\u001b[0m\u001b[0;34m\u001b[0m\u001b[0;34m\u001b[0m\u001b[0m\n\u001b[1;32m   2571\u001b[0m             \u001b[0;32mtry\u001b[0m\u001b[0;34m:\u001b[0m\u001b[0;34m\u001b[0m\u001b[0;34m\u001b[0m\u001b[0m\n\u001b[0;32m-> 2572\u001b[0;31m                 \u001b[0mresults\u001b[0m \u001b[0;34m=\u001b[0m \u001b[0mself\u001b[0m\u001b[0;34m.\u001b[0m\u001b[0mgather\u001b[0m\u001b[0;34m(\u001b[0m\u001b[0mpacked\u001b[0m\u001b[0;34m,\u001b[0m \u001b[0masynchronous\u001b[0m\u001b[0;34m=\u001b[0m\u001b[0masynchronous\u001b[0m\u001b[0;34m,\u001b[0m \u001b[0mdirect\u001b[0m\u001b[0;34m=\u001b[0m\u001b[0mdirect\u001b[0m\u001b[0;34m)\u001b[0m\u001b[0;34m\u001b[0m\u001b[0;34m\u001b[0m\u001b[0m\n\u001b[0m\u001b[1;32m   2573\u001b[0m             \u001b[0;32mfinally\u001b[0m\u001b[0;34m:\u001b[0m\u001b[0;34m\u001b[0m\u001b[0;34m\u001b[0m\u001b[0m\n\u001b[1;32m   2574\u001b[0m                 \u001b[0;32mfor\u001b[0m \u001b[0mf\u001b[0m \u001b[0;32min\u001b[0m \u001b[0mfutures\u001b[0m\u001b[0;34m.\u001b[0m\u001b[0mvalues\u001b[0m\u001b[0;34m(\u001b[0m\u001b[0;34m)\u001b[0m\u001b[0;34m:\u001b[0m\u001b[0;34m\u001b[0m\u001b[0;34m\u001b[0m\u001b[0m\n",
      "\u001b[0;32m~/Documents/adobis-staytime/venv2/lib/python3.6/site-packages/distributed/client.py\u001b[0m in \u001b[0;36mgather\u001b[0;34m(self, futures, errors, direct, asynchronous)\u001b[0m\n\u001b[1;32m   1870\u001b[0m                 \u001b[0mdirect\u001b[0m\u001b[0;34m=\u001b[0m\u001b[0mdirect\u001b[0m\u001b[0;34m,\u001b[0m\u001b[0;34m\u001b[0m\u001b[0;34m\u001b[0m\u001b[0m\n\u001b[1;32m   1871\u001b[0m                 \u001b[0mlocal_worker\u001b[0m\u001b[0;34m=\u001b[0m\u001b[0mlocal_worker\u001b[0m\u001b[0;34m,\u001b[0m\u001b[0;34m\u001b[0m\u001b[0;34m\u001b[0m\u001b[0m\n\u001b[0;32m-> 1872\u001b[0;31m                 \u001b[0masynchronous\u001b[0m\u001b[0;34m=\u001b[0m\u001b[0masynchronous\u001b[0m\u001b[0;34m,\u001b[0m\u001b[0;34m\u001b[0m\u001b[0;34m\u001b[0m\u001b[0m\n\u001b[0m\u001b[1;32m   1873\u001b[0m             )\n\u001b[1;32m   1874\u001b[0m \u001b[0;34m\u001b[0m\u001b[0m\n",
      "\u001b[0;32m~/Documents/adobis-staytime/venv2/lib/python3.6/site-packages/distributed/client.py\u001b[0m in \u001b[0;36msync\u001b[0;34m(self, func, asynchronous, callback_timeout, *args, **kwargs)\u001b[0m\n\u001b[1;32m    765\u001b[0m         \u001b[0;32melse\u001b[0m\u001b[0;34m:\u001b[0m\u001b[0;34m\u001b[0m\u001b[0;34m\u001b[0m\u001b[0m\n\u001b[1;32m    766\u001b[0m             return sync(\n\u001b[0;32m--> 767\u001b[0;31m                 \u001b[0mself\u001b[0m\u001b[0;34m.\u001b[0m\u001b[0mloop\u001b[0m\u001b[0;34m,\u001b[0m \u001b[0mfunc\u001b[0m\u001b[0;34m,\u001b[0m \u001b[0;34m*\u001b[0m\u001b[0margs\u001b[0m\u001b[0;34m,\u001b[0m \u001b[0mcallback_timeout\u001b[0m\u001b[0;34m=\u001b[0m\u001b[0mcallback_timeout\u001b[0m\u001b[0;34m,\u001b[0m \u001b[0;34m**\u001b[0m\u001b[0mkwargs\u001b[0m\u001b[0;34m\u001b[0m\u001b[0;34m\u001b[0m\u001b[0m\n\u001b[0m\u001b[1;32m    768\u001b[0m             )\n\u001b[1;32m    769\u001b[0m \u001b[0;34m\u001b[0m\u001b[0m\n",
      "\u001b[0;32m~/Documents/adobis-staytime/venv2/lib/python3.6/site-packages/distributed/utils.py\u001b[0m in \u001b[0;36msync\u001b[0;34m(loop, func, callback_timeout, *args, **kwargs)\u001b[0m\n\u001b[1;32m    329\u001b[0m     \u001b[0;32melse\u001b[0m\u001b[0;34m:\u001b[0m\u001b[0;34m\u001b[0m\u001b[0;34m\u001b[0m\u001b[0m\n\u001b[1;32m    330\u001b[0m         \u001b[0;32mwhile\u001b[0m \u001b[0;32mnot\u001b[0m \u001b[0me\u001b[0m\u001b[0;34m.\u001b[0m\u001b[0mis_set\u001b[0m\u001b[0;34m(\u001b[0m\u001b[0;34m)\u001b[0m\u001b[0;34m:\u001b[0m\u001b[0;34m\u001b[0m\u001b[0;34m\u001b[0m\u001b[0m\n\u001b[0;32m--> 331\u001b[0;31m             \u001b[0me\u001b[0m\u001b[0;34m.\u001b[0m\u001b[0mwait\u001b[0m\u001b[0;34m(\u001b[0m\u001b[0;36m10\u001b[0m\u001b[0;34m)\u001b[0m\u001b[0;34m\u001b[0m\u001b[0;34m\u001b[0m\u001b[0m\n\u001b[0m\u001b[1;32m    332\u001b[0m     \u001b[0;32mif\u001b[0m \u001b[0merror\u001b[0m\u001b[0;34m[\u001b[0m\u001b[0;36m0\u001b[0m\u001b[0;34m]\u001b[0m\u001b[0;34m:\u001b[0m\u001b[0;34m\u001b[0m\u001b[0;34m\u001b[0m\u001b[0m\n\u001b[1;32m    333\u001b[0m         \u001b[0mtyp\u001b[0m\u001b[0;34m,\u001b[0m \u001b[0mexc\u001b[0m\u001b[0;34m,\u001b[0m \u001b[0mtb\u001b[0m \u001b[0;34m=\u001b[0m \u001b[0merror\u001b[0m\u001b[0;34m[\u001b[0m\u001b[0;36m0\u001b[0m\u001b[0;34m]\u001b[0m\u001b[0;34m\u001b[0m\u001b[0;34m\u001b[0m\u001b[0m\n",
      "\u001b[0;32m/usr/lib/python3.6/threading.py\u001b[0m in \u001b[0;36mwait\u001b[0;34m(self, timeout)\u001b[0m\n\u001b[1;32m    549\u001b[0m             \u001b[0msignaled\u001b[0m \u001b[0;34m=\u001b[0m \u001b[0mself\u001b[0m\u001b[0;34m.\u001b[0m\u001b[0m_flag\u001b[0m\u001b[0;34m\u001b[0m\u001b[0;34m\u001b[0m\u001b[0m\n\u001b[1;32m    550\u001b[0m             \u001b[0;32mif\u001b[0m \u001b[0;32mnot\u001b[0m \u001b[0msignaled\u001b[0m\u001b[0;34m:\u001b[0m\u001b[0;34m\u001b[0m\u001b[0;34m\u001b[0m\u001b[0m\n\u001b[0;32m--> 551\u001b[0;31m                 \u001b[0msignaled\u001b[0m \u001b[0;34m=\u001b[0m \u001b[0mself\u001b[0m\u001b[0;34m.\u001b[0m\u001b[0m_cond\u001b[0m\u001b[0;34m.\u001b[0m\u001b[0mwait\u001b[0m\u001b[0;34m(\u001b[0m\u001b[0mtimeout\u001b[0m\u001b[0;34m)\u001b[0m\u001b[0;34m\u001b[0m\u001b[0;34m\u001b[0m\u001b[0m\n\u001b[0m\u001b[1;32m    552\u001b[0m             \u001b[0;32mreturn\u001b[0m \u001b[0msignaled\u001b[0m\u001b[0;34m\u001b[0m\u001b[0;34m\u001b[0m\u001b[0m\n\u001b[1;32m    553\u001b[0m \u001b[0;34m\u001b[0m\u001b[0m\n",
      "\u001b[0;32m/usr/lib/python3.6/threading.py\u001b[0m in \u001b[0;36mwait\u001b[0;34m(self, timeout)\u001b[0m\n\u001b[1;32m    297\u001b[0m             \u001b[0;32melse\u001b[0m\u001b[0;34m:\u001b[0m\u001b[0;34m\u001b[0m\u001b[0;34m\u001b[0m\u001b[0m\n\u001b[1;32m    298\u001b[0m                 \u001b[0;32mif\u001b[0m \u001b[0mtimeout\u001b[0m \u001b[0;34m>\u001b[0m \u001b[0;36m0\u001b[0m\u001b[0;34m:\u001b[0m\u001b[0;34m\u001b[0m\u001b[0;34m\u001b[0m\u001b[0m\n\u001b[0;32m--> 299\u001b[0;31m                     \u001b[0mgotit\u001b[0m \u001b[0;34m=\u001b[0m \u001b[0mwaiter\u001b[0m\u001b[0;34m.\u001b[0m\u001b[0macquire\u001b[0m\u001b[0;34m(\u001b[0m\u001b[0;32mTrue\u001b[0m\u001b[0;34m,\u001b[0m \u001b[0mtimeout\u001b[0m\u001b[0;34m)\u001b[0m\u001b[0;34m\u001b[0m\u001b[0;34m\u001b[0m\u001b[0m\n\u001b[0m\u001b[1;32m    300\u001b[0m                 \u001b[0;32melse\u001b[0m\u001b[0;34m:\u001b[0m\u001b[0;34m\u001b[0m\u001b[0;34m\u001b[0m\u001b[0m\n\u001b[1;32m    301\u001b[0m                     \u001b[0mgotit\u001b[0m \u001b[0;34m=\u001b[0m \u001b[0mwaiter\u001b[0m\u001b[0;34m.\u001b[0m\u001b[0macquire\u001b[0m\u001b[0;34m(\u001b[0m\u001b[0;32mFalse\u001b[0m\u001b[0;34m)\u001b[0m\u001b[0;34m\u001b[0m\u001b[0;34m\u001b[0m\u001b[0m\n",
      "\u001b[0;31mKeyboardInterrupt\u001b[0m: "
     ]
    }
   ],
   "source": [
    "predictions.to_csv('preds/predictions_apply-*.csv', index=False)"
   ]
  },
  {
   "cell_type": "markdown",
   "metadata": {},
   "source": [
    "# (Partial) Conclusion\n",
    "\n",
    "- We've shown how to distribute the prediction step of an already existing model\n",
    "- Here we've performed computations locally, but the only change needed to distribute on a cluster is to provide the address of the scheduler (and of course have workers ready on the cluster)\n",
    "- The case shown above comes from a real-life use case, but not the most common one.\n",
    "- Dask can be used also to:\n",
    "    - Data processing\n",
    "    - Learning models on big data set\n",
    "    - Distribute gridsearch parameter exploration on medium/small datasets"
   ]
  },
  {
   "cell_type": "markdown",
   "metadata": {},
   "source": [
    "# Use case: Parallelizing GridSearch with Dask\n",
    "\n",
    "- In the standard version of sklearn's Gridsearch, when using Pipelines some computations are repeated several times"
   ]
  },
  {
   "cell_type": "code",
   "execution_count": 2,
   "metadata": {},
   "outputs": [],
   "source": [
    "from sklearn.pipeline import Pipeline\n",
    "from sklearn.decomposition import PCA\n",
    "from sklearn.linear_model import LogisticRegression\n",
    "\n",
    "\n",
    "pipe = Pipeline([(\"PCA\", PCA()), (\"logreg\", LogisticRegression())])\n",
    "\n",
    "param_grid = {\"PCA__n_components\": [10, 20], \"logreg__C\": [0.01, 0.1, 1]}"
   ]
  },
  {
   "cell_type": "markdown",
   "metadata": {},
   "source": [
    "- For each of the 6 parameter sets, the initial PCA is recomputed while two computations are actually needed."
   ]
  },
  {
   "cell_type": "code",
   "execution_count": 39,
   "metadata": {},
   "outputs": [],
   "source": [
    "from sklearn.model_selection import train_test_split\n",
    "\n",
    "X = fraud0[X_cols]\n",
    "y = fraud0['Class']\n",
    "\n",
    "X_train, X_test, y_train, y_test = train_test_split(X, y, random_state=42)"
   ]
  },
  {
   "cell_type": "code",
   "execution_count": 1,
   "metadata": {},
   "outputs": [
    {
     "ename": "NameError",
     "evalue": "name 'pipe' is not defined",
     "output_type": "error",
     "traceback": [
      "\u001b[0;31m---------------------------------------------------------------------------\u001b[0m",
      "\u001b[0;31mNameError\u001b[0m                                 Traceback (most recent call last)",
      "\u001b[0;32m<timed exec>\u001b[0m in \u001b[0;36m<module>\u001b[0;34m\u001b[0m\n",
      "\u001b[0;31mNameError\u001b[0m: name 'pipe' is not defined"
     ]
    }
   ],
   "source": [
    "%%time\n",
    "import sklearn.model_selection as sms\n",
    "clf = sms.GridSearchCV(pipe, param_grid=param_grid, cv=3, n_jobs=8)\n",
    "clf.fit(X_train, y_train)"
   ]
  },
  {
   "cell_type": "markdown",
   "metadata": {},
   "source": [
    "- Since Dask uses computation graphs internally it can save previous computations for later uses\n",
    "- Which avoids redundant computations"
   ]
  },
  {
   "cell_type": "code",
   "execution_count": null,
   "metadata": {},
   "outputs": [],
   "source": [
    "%%time\n",
    "import dask_ml.model_selection as dms\n",
    "clf = dms.GridSearchCV(pipe, param_grid=param_grid, cv=3, n_jobs=8)\n",
    "clf.fit(X_train, y_train)"
   ]
  },
  {
   "cell_type": "markdown",
   "metadata": {},
   "source": [
    "- Several algorithms are implemented in dask_ML. But the purpose is not to make their computation faster but it is to make them scalable. So it can deal with large datasets, but the overhead due to distribution on small distribution maybe important."
   ]
  }
 ],
 "metadata": {
  "kernelspec": {
   "display_name": "Python 3",
   "language": "python",
   "name": "python3"
  },
  "language_info": {
   "codemirror_mode": {
    "name": "ipython",
    "version": 3
   },
   "file_extension": ".py",
   "mimetype": "text/x-python",
   "name": "python",
   "nbconvert_exporter": "python",
   "pygments_lexer": "ipython3",
   "version": "3.6.9"
  }
 },
 "nbformat": 4,
 "nbformat_minor": 2
}
